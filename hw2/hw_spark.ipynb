{
 "cells": [
  {
   "cell_type": "markdown",
   "id": "0d2dc04c",
   "metadata": {},
   "source": [
    "# Part 1"
   ]
  },
  {
   "cell_type": "code",
   "execution_count": 1,
   "id": "c960ce08-effc-4cd4-b588-cf0a2da66d66",
   "metadata": {},
   "outputs": [],
   "source": [
    "import pyspark"
   ]
  },
  {
   "cell_type": "code",
   "execution_count": 2,
   "id": "c569265a-a293-4e11-818c-596a644b43da",
   "metadata": {},
   "outputs": [],
   "source": [
    "from pyspark import SparkContext, SparkConf"
   ]
  },
  {
   "cell_type": "code",
   "execution_count": 3,
   "id": "cac70650-b185-471f-8a6f-a503d728fe8d",
   "metadata": {},
   "outputs": [
    {
     "name": "stdout",
     "output_type": "stream",
     "text": [
      "Safe mode is OFF\n"
     ]
    }
   ],
   "source": [
    "!hdfs dfsadmin -safemode leave"
   ]
  },
  {
   "cell_type": "code",
   "execution_count": 5,
   "id": "fbc46925-ea0a-489d-9093-291cb05e9b5c",
   "metadata": {},
   "outputs": [],
   "source": [
    "conf = SparkConf().set(\"spark.executor.instances\", \"2\").set(\"spark.executor.cores\", \"1\").set(\"spark.executor.memory\", \"1g\")"
   ]
  },
  {
   "cell_type": "code",
   "execution_count": 4,
   "id": "8758bb28-f3fb-42b0-85e1-af7d0580d541",
   "metadata": {},
   "outputs": [],
   "source": [
    "from pyspark.sql import SparkSession"
   ]
  },
  {
   "cell_type": "code",
   "execution_count": 9,
   "id": "ad5f1c25-ff68-4f6c-bbfb-cff3e0365e4e",
   "metadata": {},
   "outputs": [
    {
     "name": "stderr",
     "output_type": "stream",
     "text": [
      "23/12/10 19:10:14 WARN Client: Neither spark.yarn.jars nor spark.yarn.archive is set, falling back to uploading libraries under SPARK_HOME.\n"
     ]
    }
   ],
   "source": [
    "spark = SparkSession.builder.master(\"yarn\").appName(\"bondarenko_spark\").getOrCreate()"
   ]
  },
  {
   "cell_type": "code",
   "execution_count": 10,
   "id": "e495fb0b-2221-4442-8558-097d17e9f8ad",
   "metadata": {},
   "outputs": [
    {
     "data": {
      "text/html": [
       "\n",
       "            <div>\n",
       "                <p><b>SparkSession - in-memory</b></p>\n",
       "                \n",
       "        <div>\n",
       "            <p><b>SparkContext</b></p>\n",
       "\n",
       "            <p><a href=\"http://2ad1132844ee:4040\">Spark UI</a></p>\n",
       "\n",
       "            <dl>\n",
       "              <dt>Version</dt>\n",
       "                <dd><code>v3.5.0</code></dd>\n",
       "              <dt>Master</dt>\n",
       "                <dd><code>yarn</code></dd>\n",
       "              <dt>AppName</dt>\n",
       "                <dd><code>bondarenko_spark</code></dd>\n",
       "            </dl>\n",
       "        </div>\n",
       "        \n",
       "            </div>\n",
       "        "
      ],
      "text/plain": [
       "<pyspark.sql.session.SparkSession at 0x7f19941f30d0>"
      ]
     },
     "execution_count": 10,
     "metadata": {},
     "output_type": "execute_result"
    }
   ],
   "source": [
    "spark"
   ]
  },
  {
   "cell_type": "code",
   "execution_count": 17,
   "id": "65d71f0f-d9b2-4e49-afdd-e74e9322cc6b",
   "metadata": {},
   "outputs": [],
   "source": [
    "!hdfs dfs -put ../notebooks/ml-latest-small"
   ]
  },
  {
   "cell_type": "code",
   "execution_count": 20,
   "id": "701d04c0-4c9c-4b5b-b378-440059aa6744",
   "metadata": {},
   "outputs": [
    {
     "name": "stdout",
     "output_type": "stream",
     "text": [
      "CPU times: user 1.25 ms, sys: 1.42 ms, total: 2.67 ms\n",
      "Wall time: 205 ms\n"
     ]
    }
   ],
   "source": [
    "%%time\n",
    "ratings_df = spark.read.format(\"csv\").option(\"header\", \"True\").load(\"ml-latest-small/ratings.csv\")"
   ]
  },
  {
   "cell_type": "code",
   "execution_count": 21,
   "id": "a50ab801-e78b-4864-a6b8-eea27670b2bb",
   "metadata": {},
   "outputs": [
    {
     "name": "stdout",
     "output_type": "stream",
     "text": [
      "CPU times: user 888 µs, sys: 1.01 ms, total: 1.9 ms\n",
      "Wall time: 156 ms\n"
     ]
    }
   ],
   "source": [
    "%%time\n",
    "tags_df = spark.read.format(\"csv\").option(\"header\", \"True\").load(\"ml-latest-small/tags.csv\")"
   ]
  },
  {
   "cell_type": "code",
   "execution_count": 22,
   "id": "4a46aab6-5ff5-42ac-a419-e83c684e6276",
   "metadata": {},
   "outputs": [
    {
     "name": "stderr",
     "output_type": "stream",
     "text": [
      "                                                                                \r"
     ]
    },
    {
     "data": {
      "text/plain": [
       "100836"
      ]
     },
     "execution_count": 22,
     "metadata": {},
     "output_type": "execute_result"
    }
   ],
   "source": [
    "ratings_df.count()"
   ]
  },
  {
   "cell_type": "code",
   "execution_count": 27,
   "id": "b817297e-1299-431e-ba08-1e480b0ca335",
   "metadata": {},
   "outputs": [
    {
     "data": {
      "text/plain": [
       "3683"
      ]
     },
     "execution_count": 27,
     "metadata": {},
     "output_type": "execute_result"
    }
   ],
   "source": [
    "tags_df.count()"
   ]
  },
  {
   "cell_type": "markdown",
   "id": "fe3504f0",
   "metadata": {},
   "source": [
    "# Part 2"
   ]
  },
  {
   "cell_type": "code",
   "execution_count": 28,
   "id": "87273e2c",
   "metadata": {},
   "outputs": [
    {
     "name": "stderr",
     "output_type": "stream",
     "text": [
      "[Stage 18:>                                                         (0 + 1) / 1]\r"
     ]
    },
    {
     "name": "stdout",
     "output_type": "stream",
     "text": [
      "+-------+------------------+----------------+------------------+--------------------+\n",
      "|summary|            userId|         movieId|            rating|           timestamp|\n",
      "+-------+------------------+----------------+------------------+--------------------+\n",
      "|  count|            100836|          100836|            100836|              100836|\n",
      "|   mean|326.12756356856676|19435.2957177992| 3.501556983616962|1.2059460873684695E9|\n",
      "| stddev| 182.6184914635004|35530.9871987003|1.0425292390606342|2.1626103599513078E8|\n",
      "|    min|                 1|               1|               0.5|          1000129365|\n",
      "|    25%|             177.0|          1199.0|               3.0|       1.018535155E9|\n",
      "|    50%|             325.0|          2991.0|               3.5|       1.186086516E9|\n",
      "|    75%|             477.0|          8092.0|               4.0|       1.435993828E9|\n",
      "|    max|                99|           99992|               5.0|           999873731|\n",
      "+-------+------------------+----------------+------------------+--------------------+\n",
      "\n"
     ]
    },
    {
     "name": "stderr",
     "output_type": "stream",
     "text": [
      "                                                                                \r"
     ]
    }
   ],
   "source": [
    "ratings_df.summary().show()"
   ]
  },
  {
   "cell_type": "code",
   "execution_count": 65,
   "id": "4023cca5",
   "metadata": {},
   "outputs": [],
   "source": [
    "ratings_df = ratings_df.repartition(2)"
   ]
  },
  {
   "cell_type": "code",
   "execution_count": 78,
   "id": "02526296",
   "metadata": {},
   "outputs": [
    {
     "name": "stdout",
     "output_type": "stream",
     "text": [
      "count of unique users:  610\n"
     ]
    }
   ],
   "source": [
    "# 1\n",
    "print(\"count of unique users: \", ratings_df.dropDuplicates([\"userId\"]).count())"
   ]
  },
  {
   "cell_type": "code",
   "execution_count": 79,
   "id": "c6874a66",
   "metadata": {},
   "outputs": [
    {
     "name": "stdout",
     "output_type": "stream",
     "text": [
      "count of unique movies:  9724\n"
     ]
    }
   ],
   "source": [
    "# 1\n",
    "print(\"count of unique movies: \", ratings_df.dropDuplicates([\"movieId\"]).count())"
   ]
  },
  {
   "cell_type": "code",
   "execution_count": 36,
   "id": "3e266ced",
   "metadata": {},
   "outputs": [],
   "source": [
    "import pyspark.sql.functions as f"
   ]
  },
  {
   "cell_type": "code",
   "execution_count": 76,
   "id": "901502c7",
   "metadata": {},
   "outputs": [
    {
     "name": "stdout",
     "output_type": "stream",
     "text": [
      "count of '>=4.0' ratings:  6298\n"
     ]
    }
   ],
   "source": [
    "# 2\n",
    "print(\"count of '>=4.0' ratings: \", ratings_df.filter((f.col(\"rating\") >= 4.0)).dropDuplicates([\"movieId\"]).count())"
   ]
  },
  {
   "cell_type": "code",
   "execution_count": 77,
   "id": "0af5fc26",
   "metadata": {},
   "outputs": [
    {
     "name": "stdout",
     "output_type": "stream",
     "text": [
      "top 100 movies: \n",
      "+-------+----------+\n",
      "|movieId|avg_rating|\n",
      "+-------+----------+\n",
      "|   3940|       5.0|\n",
      "| 140627|       5.0|\n",
      "|  82744|       5.0|\n",
      "|    467|       5.0|\n",
      "| 136341|       5.0|\n",
      "| 149508|       5.0|\n",
      "|  94810|       5.0|\n",
      "|   6402|       5.0|\n",
      "|   4180|       5.0|\n",
      "| 170597|       5.0|\n",
      "| 149350|       5.0|\n",
      "| 136447|       5.0|\n",
      "| 128087|       5.0|\n",
      "| 151769|       5.0|\n",
      "| 124404|       5.0|\n",
      "|  73822|       5.0|\n",
      "|  59814|       5.0|\n",
      "|    626|       5.0|\n",
      "|   2824|       5.0|\n",
      "|  76091|       5.0|\n",
      "|  31522|       5.0|\n",
      "|  50999|       5.0|\n",
      "| 142020|       5.0|\n",
      "| 147326|       5.0|\n",
      "| 109687|       5.0|\n",
      "| 113829|       5.0|\n",
      "|     53|       5.0|\n",
      "| 112512|       5.0|\n",
      "| 146662|       5.0|\n",
      "|  90943|       5.0|\n",
      "|  26928|       5.0|\n",
      "| 134109|       5.0|\n",
      "|  26169|       5.0|\n",
      "|  95175|       5.0|\n",
      "| 143511|       5.0|\n",
      "|     99|       5.0|\n",
      "|   3678|       5.0|\n",
      "| 142444|       5.0|\n",
      "| 136445|       5.0|\n",
      "|   8580|       5.0|\n",
      "|   3851|       5.0|\n",
      "|   5723|       5.0|\n",
      "| 172705|       5.0|\n",
      "| 179133|       5.0|\n",
      "| 170777|       5.0|\n",
      "|  34312|       5.0|\n",
      "| 130970|       5.0|\n",
      "|  96608|       5.0|\n",
      "| 175387|       5.0|\n",
      "| 131724|       5.0|\n",
      "| 147286|       5.0|\n",
      "| 141718|       5.0|\n",
      "| 150554|       5.0|\n",
      "|    876|       5.0|\n",
      "|   3792|       5.0|\n",
      "|  85295|       5.0|\n",
      "|  91386|       5.0|\n",
      "| 164367|       5.0|\n",
      "| 108078|       5.0|\n",
      "|  96935|       5.0|\n",
      "|   6442|       5.0|\n",
      "| 132153|       5.0|\n",
      "|  88448|       5.0|\n",
      "| 172587|       5.0|\n",
      "| 141928|       5.0|\n",
      "|  69860|       5.0|\n",
      "| 166183|       5.0|\n",
      "|   6611|       5.0|\n",
      "|   4813|       5.0|\n",
      "| 136353|       5.0|\n",
      "| 107771|       5.0|\n",
      "| 157775|       5.0|\n",
      "|  26401|       5.0|\n",
      "|  70451|       5.0|\n",
      "| 172637|       5.0|\n",
      "|   4788|       5.0|\n",
      "|   6818|       5.0|\n",
      "| 172577|       5.0|\n",
      "|   4135|       5.0|\n",
      "|   5244|       5.0|\n",
      "|  86668|       5.0|\n",
      "|   5059|       5.0|\n",
      "|  91355|       5.0|\n",
      "|  26350|       5.0|\n",
      "|  87834|       5.0|\n",
      "| 172583|       5.0|\n",
      "|  93008|       5.0|\n",
      "| 140265|       5.0|\n",
      "|   3096|       5.0|\n",
      "| 130978|       5.0|\n",
      "| 172585|       5.0|\n",
      "| 140133|       5.0|\n",
      "| 173355|       5.0|\n",
      "| 147250|       5.0|\n",
      "| 118834|       5.0|\n",
      "| 139640|       5.0|\n",
      "|  40491|       5.0|\n",
      "| 162344|       5.0|\n",
      "| 165959|       5.0|\n",
      "| 146684|       5.0|\n",
      "+-------+----------+\n",
      "only showing top 100 rows\n",
      "\n"
     ]
    }
   ],
   "source": [
    "# 3\n",
    "print(\"top 100 movies: \")\n",
    "ratings_df\\\n",
    "    .groupBy(f.col(\"movieId\"))\\\n",
    "    .agg(f.avg(f.col(\"rating\")).alias(\"avg_rating\"))\\\n",
    "    .orderBy(\"avg_rating\", ascending=False)\\\n",
    "    .show(100)"
   ]
  },
  {
   "cell_type": "code",
   "execution_count": 89,
   "id": "3417671c",
   "metadata": {},
   "outputs": [
    {
     "name": "stdout",
     "output_type": "stream",
     "text": [
      "+--------------------+\n",
      "|           avg_delta|\n",
      "+--------------------+\n",
      "|2.6243727372266974E7|\n",
      "+--------------------+\n",
      "\n"
     ]
    }
   ],
   "source": [
    "# 4\n",
    "ratings_with_tags_df = ratings_df.alias(\"r\")\\\n",
    "    .join(tags_df.alias(\"t\"), on=[\"userId\", \"movieId\"], how=\"inner\")\\\n",
    "    .agg(f.avg(f.col(\"t.timestamp\") - f.col(\"r.timestamp\")).alias(\"avg_delta\"))\n",
    "\n",
    "ratings_with_tags_df.show()"
   ]
  },
  {
   "cell_type": "code",
   "execution_count": 96,
   "id": "d8fd30db",
   "metadata": {},
   "outputs": [
    {
     "name": "stdout",
     "output_type": "stream",
     "text": [
      "+------------------+\n",
      "|        avg_rating|\n",
      "+------------------+\n",
      "|3.6572223377474007|\n",
      "+------------------+\n",
      "\n"
     ]
    }
   ],
   "source": [
    "# 5\n",
    "avg_rating = ratings_df\\\n",
    "    .groupBy(f.col(\"userId\"))\\\n",
    "    .agg(f.avg(f.col(\"rating\")).alias(\"avg_rating_user\"))\\\n",
    "    .agg(f.avg(f.col(\"avg_rating_user\")).alias(\"avg_rating\"))\n",
    "\n",
    "avg_rating.show()"
   ]
  }
 ],
 "metadata": {
  "kernelspec": {
   "display_name": "Python 3 (ipykernel)",
   "language": "python",
   "name": "python3"
  },
  "language_info": {
   "codemirror_mode": {
    "name": "ipython",
    "version": 3
   },
   "file_extension": ".py",
   "mimetype": "text/x-python",
   "name": "python",
   "nbconvert_exporter": "python",
   "pygments_lexer": "ipython3",
   "version": "3.10.12"
  }
 },
 "nbformat": 4,
 "nbformat_minor": 5
}
