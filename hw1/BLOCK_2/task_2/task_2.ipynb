{
 "cells": [
  {
   "cell_type": "code",
   "execution_count": 4,
   "id": "a49f4fe0-4e0d-4c12-a7e0-3a1f31d64331",
   "metadata": {},
   "outputs": [
    {
     "name": "stdout",
     "output_type": "stream",
     "text": [
      "Requirement already satisfied: pyarrow in /usr/local/lib/python3.10/dist-packages (14.0.1)\n",
      "Requirement already satisfied: numpy>=1.16.6 in /usr/local/lib/python3.10/dist-packages (from pyarrow) (1.26.2)\n",
      "\u001b[33mWARNING: Running pip as the 'root' user can result in broken permissions and conflicting behaviour with the system package manager. It is recommended to use a virtual environment instead: https://pip.pypa.io/warnings/venv\u001b[0m\u001b[33m\n",
      "\u001b[0m"
     ]
    }
   ],
   "source": [
    "!pip install pyarrow"
   ]
  },
  {
   "cell_type": "code",
   "execution_count": 5,
   "id": "fc99f72a-0fe2-4bfe-8e00-1e6a3ca3047d",
   "metadata": {},
   "outputs": [
    {
     "name": "stdout",
     "output_type": "stream",
     "text": [
      "/opt/hadoop/etc/hadoop:/opt/hadoop/share/hadoop/common/lib/jersey-servlet-1.19.4.jar:/opt/hadoop/share/hadoop/common/lib/netty-codec-memcache-4.1.89.Final.jar:/opt/hadoop/share/hadoop/common/lib/kerb-server-1.0.1.jar:/opt/hadoop/share/hadoop/common/lib/jul-to-slf4j-1.7.36.jar:/opt/hadoop/share/hadoop/common/lib/netty-transport-native-epoll-4.1.89.Final-linux-aarch_64.jar:/opt/hadoop/share/hadoop/common/lib/curator-recipes-5.2.0.jar:/opt/hadoop/share/hadoop/common/lib/hadoop-auth-3.3.6.jar:/opt/hadoop/share/hadoop/common/lib/netty-codec-mqtt-4.1.89.Final.jar:/opt/hadoop/share/hadoop/common/lib/javax.servlet-api-3.1.0.jar:/opt/hadoop/share/hadoop/common/lib/jsch-0.1.55.jar:/opt/hadoop/share/hadoop/common/lib/commons-daemon-1.0.13.jar:/opt/hadoop/share/hadoop/common/lib/kerb-client-1.0.1.jar:/opt/hadoop/share/hadoop/common/lib/jaxb-api-2.2.11.jar:/opt/hadoop/share/hadoop/common/lib/netty-transport-sctp-4.1.89.Final.jar:/opt/hadoop/share/hadoop/common/lib/netty-buffer-4.1.89.Final.jar:/opt/hadoop/share/hadoop/common/lib/kerb-crypto-1.0.1.jar:/opt/hadoop/share/hadoop/common/lib/commons-text-1.10.0.jar:/opt/hadoop/share/hadoop/common/lib/netty-resolver-dns-native-macos-4.1.89.Final-osx-aarch_64.jar:/opt/hadoop/share/hadoop/common/lib/commons-codec-1.15.jar:/opt/hadoop/share/hadoop/common/lib/httpcore-4.4.13.jar:/opt/hadoop/share/hadoop/common/lib/hadoop-annotations-3.3.6.jar:/opt/hadoop/share/hadoop/common/lib/commons-collections-3.2.2.jar:/opt/hadoop/share/hadoop/common/lib/woodstox-core-5.4.0.jar:/opt/hadoop/share/hadoop/common/lib/jetty-util-ajax-9.4.51.v20230217.jar:/opt/hadoop/share/hadoop/common/lib/netty-transport-native-unix-common-4.1.89.Final.jar:/opt/hadoop/share/hadoop/common/lib/audience-annotations-0.5.0.jar:/opt/hadoop/share/hadoop/common/lib/kerby-util-1.0.1.jar:/opt/hadoop/share/hadoop/common/lib/zookeeper-3.6.3.jar:/opt/hadoop/share/hadoop/common/lib/jsr311-api-1.1.1.jar:/opt/hadoop/share/hadoop/common/lib/netty-codec-http2-4.1.89.Final.jar:/opt/hadoop/share/hadoop/common/lib/token-provider-1.0.1.jar:/opt/hadoop/share/hadoop/common/lib/jetty-webapp-9.4.51.v20230217.jar:/opt/hadoop/share/hadoop/common/lib/netty-codec-redis-4.1.89.Final.jar:/opt/hadoop/share/hadoop/common/lib/jetty-util-9.4.51.v20230217.jar:/opt/hadoop/share/hadoop/common/lib/jersey-server-1.19.4.jar:/opt/hadoop/share/hadoop/common/lib/jetty-io-9.4.51.v20230217.jar:/opt/hadoop/share/hadoop/common/lib/netty-transport-classes-kqueue-4.1.89.Final.jar:/opt/hadoop/share/hadoop/common/lib/netty-handler-4.1.89.Final.jar:/opt/hadoop/share/hadoop/common/lib/curator-framework-5.2.0.jar:/opt/hadoop/share/hadoop/common/lib/netty-transport-4.1.89.Final.jar:/opt/hadoop/share/hadoop/common/lib/jetty-security-9.4.51.v20230217.jar:/opt/hadoop/share/hadoop/common/lib/kerby-asn1-1.0.1.jar:/opt/hadoop/share/hadoop/common/lib/re2j-1.1.jar:/opt/hadoop/share/hadoop/common/lib/jackson-core-asl-1.9.13.jar:/opt/hadoop/share/hadoop/common/lib/curator-client-5.2.0.jar:/opt/hadoop/share/hadoop/common/lib/netty-resolver-dns-classes-macos-4.1.89.Final.jar:/opt/hadoop/share/hadoop/common/lib/netty-all-4.1.89.Final.jar:/opt/hadoop/share/hadoop/common/lib/commons-cli-1.2.jar:/opt/hadoop/share/hadoop/common/lib/netty-transport-udt-4.1.89.Final.jar:/opt/hadoop/share/hadoop/common/lib/jetty-xml-9.4.51.v20230217.jar:/opt/hadoop/share/hadoop/common/lib/netty-codec-4.1.89.Final.jar:/opt/hadoop/share/hadoop/common/lib/jakarta.activation-api-1.2.1.jar:/opt/hadoop/share/hadoop/common/lib/jackson-mapper-asl-1.9.13.jar:/opt/hadoop/share/hadoop/common/lib/jaxb-impl-2.2.3-1.jar:/opt/hadoop/share/hadoop/common/lib/httpclient-4.5.13.jar:/opt/hadoop/share/hadoop/common/lib/jcip-annotations-1.0-1.jar:/opt/hadoop/share/hadoop/common/lib/netty-resolver-dns-4.1.89.Final.jar:/opt/hadoop/share/hadoop/common/lib/commons-io-2.8.0.jar:/opt/hadoop/share/hadoop/common/lib/netty-codec-haproxy-4.1.89.Final.jar:/opt/hadoop/share/hadoop/common/lib/jetty-server-9.4.51.v20230217.jar:/opt/hadoop/share/hadoop/common/lib/netty-transport-native-kqueue-4.1.89.Final-osx-aarch_64.jar:/opt/hadoop/share/hadoop/common/lib/snappy-java-1.1.8.2.jar:/opt/hadoop/share/hadoop/common/lib/netty-transport-classes-epoll-4.1.89.Final.jar:/opt/hadoop/share/hadoop/common/lib/failureaccess-1.0.jar:/opt/hadoop/share/hadoop/common/lib/commons-lang3-3.12.0.jar:/opt/hadoop/share/hadoop/common/lib/slf4j-reload4j-1.7.36.jar:/opt/hadoop/share/hadoop/common/lib/guava-27.0-jre.jar:/opt/hadoop/share/hadoop/common/lib/netty-common-4.1.89.Final.jar:/opt/hadoop/share/hadoop/common/lib/kerby-config-1.0.1.jar:/opt/hadoop/share/hadoop/common/lib/netty-handler-ssl-ocsp-4.1.89.Final.jar:/opt/hadoop/share/hadoop/common/lib/kerb-util-1.0.1.jar:/opt/hadoop/share/hadoop/common/lib/netty-codec-xml-4.1.89.Final.jar:/opt/hadoop/share/hadoop/common/lib/commons-net-3.9.0.jar:/opt/hadoop/share/hadoop/common/lib/netty-transport-native-epoll-4.1.89.Final-linux-x86_64.jar:/opt/hadoop/share/hadoop/common/lib/commons-configuration2-2.8.0.jar:/opt/hadoop/share/hadoop/common/lib/protobuf-java-2.5.0.jar:/opt/hadoop/share/hadoop/common/lib/netty-handler-proxy-4.1.89.Final.jar:/opt/hadoop/share/hadoop/common/lib/hadoop-shaded-protobuf_3_7-1.1.1.jar:/opt/hadoop/share/hadoop/common/lib/paranamer-2.3.jar:/opt/hadoop/share/hadoop/common/lib/commons-logging-1.1.3.jar:/opt/hadoop/share/hadoop/common/lib/commons-math3-3.1.1.jar:/opt/hadoop/share/hadoop/common/lib/kerb-common-1.0.1.jar:/opt/hadoop/share/hadoop/common/lib/kerb-admin-1.0.1.jar:/opt/hadoop/share/hadoop/common/lib/kerby-xdr-1.0.1.jar:/opt/hadoop/share/hadoop/common/lib/jsr305-3.0.2.jar:/opt/hadoop/share/hadoop/common/lib/netty-codec-stomp-4.1.89.Final.jar:/opt/hadoop/share/hadoop/common/lib/netty-codec-dns-4.1.89.Final.jar:/opt/hadoop/share/hadoop/common/lib/animal-sniffer-annotations-1.17.jar:/opt/hadoop/share/hadoop/common/lib/reload4j-1.2.22.jar:/opt/hadoop/share/hadoop/common/lib/jersey-json-1.20.jar:/opt/hadoop/share/hadoop/common/lib/jetty-servlet-9.4.51.v20230217.jar:/opt/hadoop/share/hadoop/common/lib/j2objc-annotations-1.1.jar:/opt/hadoop/share/hadoop/common/lib/netty-codec-socks-4.1.89.Final.jar:/opt/hadoop/share/hadoop/common/lib/hadoop-shaded-guava-1.1.1.jar:/opt/hadoop/share/hadoop/common/lib/commons-beanutils-1.9.4.jar:/opt/hadoop/share/hadoop/common/lib/jackson-core-2.12.7.jar:/opt/hadoop/share/hadoop/common/lib/jackson-databind-2.12.7.1.jar:/opt/hadoop/share/hadoop/common/lib/slf4j-api-1.7.36.jar:/opt/hadoop/share/hadoop/common/lib/kerby-pkix-1.0.1.jar:/opt/hadoop/share/hadoop/common/lib/listenablefuture-9999.0-empty-to-avoid-conflict-with-guava.jar:/opt/hadoop/share/hadoop/common/lib/jackson-annotations-2.12.7.jar:/opt/hadoop/share/hadoop/common/lib/commons-compress-1.21.jar:/opt/hadoop/share/hadoop/common/lib/gson-2.9.0.jar:/opt/hadoop/share/hadoop/common/lib/jetty-http-9.4.51.v20230217.jar:/opt/hadoop/share/hadoop/common/lib/netty-resolver-4.1.89.Final.jar:/opt/hadoop/share/hadoop/common/lib/zookeeper-jute-3.6.3.jar:/opt/hadoop/share/hadoop/common/lib/metrics-core-3.2.4.jar:/opt/hadoop/share/hadoop/common/lib/kerb-simplekdc-1.0.1.jar:/opt/hadoop/share/hadoop/common/lib/checker-qual-2.5.2.jar:/opt/hadoop/share/hadoop/common/lib/avro-1.7.7.jar:/opt/hadoop/share/hadoop/common/lib/stax2-api-4.2.1.jar:/opt/hadoop/share/hadoop/common/lib/kerb-core-1.0.1.jar:/opt/hadoop/share/hadoop/common/lib/nimbus-jose-jwt-9.8.1.jar:/opt/hadoop/share/hadoop/common/lib/jersey-core-1.19.4.jar:/opt/hadoop/share/hadoop/common/lib/netty-transport-rxtx-4.1.89.Final.jar:/opt/hadoop/share/hadoop/common/lib/netty-transport-native-kqueue-4.1.89.Final-osx-x86_64.jar:/opt/hadoop/share/hadoop/common/lib/jsp-api-2.1.jar:/opt/hadoop/share/hadoop/common/lib/netty-resolver-dns-native-macos-4.1.89.Final-osx-x86_64.jar:/opt/hadoop/share/hadoop/common/lib/netty-codec-http-4.1.89.Final.jar:/opt/hadoop/share/hadoop/common/lib/netty-codec-smtp-4.1.89.Final.jar:/opt/hadoop/share/hadoop/common/lib/jettison-1.5.4.jar:/opt/hadoop/share/hadoop/common/lib/dnsjava-2.1.7.jar:/opt/hadoop/share/hadoop/common/lib/kerb-identity-1.0.1.jar:/opt/hadoop/share/hadoop/common/hadoop-kms-3.3.6.jar:/opt/hadoop/share/hadoop/common/hadoop-common-3.3.6.jar:/opt/hadoop/share/hadoop/common/hadoop-registry-3.3.6.jar:/opt/hadoop/share/hadoop/common/hadoop-common-3.3.6-tests.jar:/opt/hadoop/share/hadoop/common/hadoop-nfs-3.3.6.jar:/opt/hadoop/share/hadoop/hdfs:/opt/hadoop/share/hadoop/hdfs/lib/jersey-servlet-1.19.4.jar:/opt/hadoop/share/hadoop/hdfs/lib/netty-codec-memcache-4.1.89.Final.jar:/opt/hadoop/share/hadoop/hdfs/lib/kerb-server-1.0.1.jar:/opt/hadoop/share/hadoop/hdfs/lib/netty-transport-native-epoll-4.1.89.Final-linux-aarch_64.jar:/opt/hadoop/share/hadoop/hdfs/lib/curator-recipes-5.2.0.jar:/opt/hadoop/share/hadoop/hdfs/lib/hadoop-auth-3.3.6.jar:/opt/hadoop/share/hadoop/hdfs/lib/netty-codec-mqtt-4.1.89.Final.jar:/opt/hadoop/share/hadoop/hdfs/lib/javax.servlet-api-3.1.0.jar:/opt/hadoop/share/hadoop/hdfs/lib/jsch-0.1.55.jar:/opt/hadoop/share/hadoop/hdfs/lib/commons-daemon-1.0.13.jar:/opt/hadoop/share/hadoop/hdfs/lib/kerb-client-1.0.1.jar:/opt/hadoop/share/hadoop/hdfs/lib/jaxb-api-2.2.11.jar:/opt/hadoop/share/hadoop/hdfs/lib/netty-transport-sctp-4.1.89.Final.jar:/opt/hadoop/share/hadoop/hdfs/lib/netty-buffer-4.1.89.Final.jar:/opt/hadoop/share/hadoop/hdfs/lib/kerb-crypto-1.0.1.jar:/opt/hadoop/share/hadoop/hdfs/lib/commons-text-1.10.0.jar:/opt/hadoop/share/hadoop/hdfs/lib/okio-2.8.0.jar:/opt/hadoop/share/hadoop/hdfs/lib/netty-resolver-dns-native-macos-4.1.89.Final-osx-aarch_64.jar:/opt/hadoop/share/hadoop/hdfs/lib/commons-codec-1.15.jar:/opt/hadoop/share/hadoop/hdfs/lib/httpcore-4.4.13.jar:/opt/hadoop/share/hadoop/hdfs/lib/hadoop-annotations-3.3.6.jar:/opt/hadoop/share/hadoop/hdfs/lib/commons-collections-3.2.2.jar:/opt/hadoop/share/hadoop/hdfs/lib/woodstox-core-5.4.0.jar:/opt/hadoop/share/hadoop/hdfs/lib/jetty-util-ajax-9.4.51.v20230217.jar:/opt/hadoop/share/hadoop/hdfs/lib/netty-transport-native-unix-common-4.1.89.Final.jar:/opt/hadoop/share/hadoop/hdfs/lib/audience-annotations-0.5.0.jar:/opt/hadoop/share/hadoop/hdfs/lib/kerby-util-1.0.1.jar:/opt/hadoop/share/hadoop/hdfs/lib/zookeeper-3.6.3.jar:/opt/hadoop/share/hadoop/hdfs/lib/jsr311-api-1.1.1.jar:/opt/hadoop/share/hadoop/hdfs/lib/netty-codec-http2-4.1.89.Final.jar:/opt/hadoop/share/hadoop/hdfs/lib/okhttp-4.9.3.jar:/opt/hadoop/share/hadoop/hdfs/lib/token-provider-1.0.1.jar:/opt/hadoop/share/hadoop/hdfs/lib/jetty-webapp-9.4.51.v20230217.jar:/opt/hadoop/share/hadoop/hdfs/lib/netty-codec-redis-4.1.89.Final.jar:/opt/hadoop/share/hadoop/hdfs/lib/jetty-util-9.4.51.v20230217.jar:/opt/hadoop/share/hadoop/hdfs/lib/jersey-server-1.19.4.jar:/opt/hadoop/share/hadoop/hdfs/lib/jetty-io-9.4.51.v20230217.jar:/opt/hadoop/share/hadoop/hdfs/lib/netty-transport-classes-kqueue-4.1.89.Final.jar:/opt/hadoop/share/hadoop/hdfs/lib/netty-handler-4.1.89.Final.jar:/opt/hadoop/share/hadoop/hdfs/lib/curator-framework-5.2.0.jar:/opt/hadoop/share/hadoop/hdfs/lib/netty-transport-4.1.89.Final.jar:/opt/hadoop/share/hadoop/hdfs/lib/jetty-security-9.4.51.v20230217.jar:/opt/hadoop/share/hadoop/hdfs/lib/kerby-asn1-1.0.1.jar:/opt/hadoop/share/hadoop/hdfs/lib/re2j-1.1.jar:/opt/hadoop/share/hadoop/hdfs/lib/kotlin-stdlib-1.4.10.jar:/opt/hadoop/share/hadoop/hdfs/lib/jackson-core-asl-1.9.13.jar:/opt/hadoop/share/hadoop/hdfs/lib/curator-client-5.2.0.jar:/opt/hadoop/share/hadoop/hdfs/lib/netty-resolver-dns-classes-macos-4.1.89.Final.jar:/opt/hadoop/share/hadoop/hdfs/lib/netty-all-4.1.89.Final.jar:/opt/hadoop/share/hadoop/hdfs/lib/commons-cli-1.2.jar:/opt/hadoop/share/hadoop/hdfs/lib/netty-transport-udt-4.1.89.Final.jar:/opt/hadoop/share/hadoop/hdfs/lib/jetty-xml-9.4.51.v20230217.jar:/opt/hadoop/share/hadoop/hdfs/lib/netty-codec-4.1.89.Final.jar:/opt/hadoop/share/hadoop/hdfs/lib/jakarta.activation-api-1.2.1.jar:/opt/hadoop/share/hadoop/hdfs/lib/jackson-mapper-asl-1.9.13.jar:/opt/hadoop/share/hadoop/hdfs/lib/jaxb-impl-2.2.3-1.jar:/opt/hadoop/share/hadoop/hdfs/lib/httpclient-4.5.13.jar:/opt/hadoop/share/hadoop/hdfs/lib/jcip-annotations-1.0-1.jar:/opt/hadoop/share/hadoop/hdfs/lib/netty-resolver-dns-4.1.89.Final.jar:/opt/hadoop/share/hadoop/hdfs/lib/json-simple-1.1.1.jar:/opt/hadoop/share/hadoop/hdfs/lib/commons-io-2.8.0.jar:/opt/hadoop/share/hadoop/hdfs/lib/netty-codec-haproxy-4.1.89.Final.jar:/opt/hadoop/share/hadoop/hdfs/lib/jetty-server-9.4.51.v20230217.jar:/opt/hadoop/share/hadoop/hdfs/lib/netty-transport-native-kqueue-4.1.89.Final-osx-aarch_64.jar:/opt/hadoop/share/hadoop/hdfs/lib/snappy-java-1.1.8.2.jar:/opt/hadoop/share/hadoop/hdfs/lib/netty-transport-classes-epoll-4.1.89.Final.jar:/opt/hadoop/share/hadoop/hdfs/lib/kotlin-stdlib-common-1.4.10.jar:/opt/hadoop/share/hadoop/hdfs/lib/failureaccess-1.0.jar:/opt/hadoop/share/hadoop/hdfs/lib/commons-lang3-3.12.0.jar:/opt/hadoop/share/hadoop/hdfs/lib/HikariCP-java7-2.4.12.jar:/opt/hadoop/share/hadoop/hdfs/lib/guava-27.0-jre.jar:/opt/hadoop/share/hadoop/hdfs/lib/netty-common-4.1.89.Final.jar:/opt/hadoop/share/hadoop/hdfs/lib/kerby-config-1.0.1.jar:/opt/hadoop/share/hadoop/hdfs/lib/netty-handler-ssl-ocsp-4.1.89.Final.jar:/opt/hadoop/share/hadoop/hdfs/lib/kerb-util-1.0.1.jar:/opt/hadoop/share/hadoop/hdfs/lib/netty-codec-xml-4.1.89.Final.jar:/opt/hadoop/share/hadoop/hdfs/lib/commons-net-3.9.0.jar:/opt/hadoop/share/hadoop/hdfs/lib/netty-transport-native-epoll-4.1.89.Final-linux-x86_64.jar:/opt/hadoop/share/hadoop/hdfs/lib/commons-configuration2-2.8.0.jar:/opt/hadoop/share/hadoop/hdfs/lib/protobuf-java-2.5.0.jar:/opt/hadoop/share/hadoop/hdfs/lib/netty-handler-proxy-4.1.89.Final.jar:/opt/hadoop/share/hadoop/hdfs/lib/hadoop-shaded-protobuf_3_7-1.1.1.jar:/opt/hadoop/share/hadoop/hdfs/lib/paranamer-2.3.jar:/opt/hadoop/share/hadoop/hdfs/lib/commons-logging-1.1.3.jar:/opt/hadoop/share/hadoop/hdfs/lib/commons-math3-3.1.1.jar:/opt/hadoop/share/hadoop/hdfs/lib/kerb-common-1.0.1.jar:/opt/hadoop/share/hadoop/hdfs/lib/kerb-admin-1.0.1.jar:/opt/hadoop/share/hadoop/hdfs/lib/kerby-xdr-1.0.1.jar:/opt/hadoop/share/hadoop/hdfs/lib/jsr305-3.0.2.jar:/opt/hadoop/share/hadoop/hdfs/lib/netty-codec-stomp-4.1.89.Final.jar:/opt/hadoop/share/hadoop/hdfs/lib/netty-codec-dns-4.1.89.Final.jar:/opt/hadoop/share/hadoop/hdfs/lib/netty-3.10.6.Final.jar:/opt/hadoop/share/hadoop/hdfs/lib/animal-sniffer-annotations-1.17.jar:/opt/hadoop/share/hadoop/hdfs/lib/reload4j-1.2.22.jar:/opt/hadoop/share/hadoop/hdfs/lib/jersey-json-1.20.jar:/opt/hadoop/share/hadoop/hdfs/lib/jetty-servlet-9.4.51.v20230217.jar:/opt/hadoop/share/hadoop/hdfs/lib/j2objc-annotations-1.1.jar:/opt/hadoop/share/hadoop/hdfs/lib/netty-codec-socks-4.1.89.Final.jar:/opt/hadoop/share/hadoop/hdfs/lib/hadoop-shaded-guava-1.1.1.jar:/opt/hadoop/share/hadoop/hdfs/lib/commons-beanutils-1.9.4.jar:/opt/hadoop/share/hadoop/hdfs/lib/jackson-core-2.12.7.jar:/opt/hadoop/share/hadoop/hdfs/lib/jackson-databind-2.12.7.1.jar:/opt/hadoop/share/hadoop/hdfs/lib/kerby-pkix-1.0.1.jar:/opt/hadoop/share/hadoop/hdfs/lib/listenablefuture-9999.0-empty-to-avoid-conflict-with-guava.jar:/opt/hadoop/share/hadoop/hdfs/lib/jackson-annotations-2.12.7.jar:/opt/hadoop/share/hadoop/hdfs/lib/commons-compress-1.21.jar:/opt/hadoop/share/hadoop/hdfs/lib/gson-2.9.0.jar:/opt/hadoop/share/hadoop/hdfs/lib/jetty-http-9.4.51.v20230217.jar:/opt/hadoop/share/hadoop/hdfs/lib/netty-resolver-4.1.89.Final.jar:/opt/hadoop/share/hadoop/hdfs/lib/zookeeper-jute-3.6.3.jar:/opt/hadoop/share/hadoop/hdfs/lib/metrics-core-3.2.4.jar:/opt/hadoop/share/hadoop/hdfs/lib/kerb-simplekdc-1.0.1.jar:/opt/hadoop/share/hadoop/hdfs/lib/checker-qual-2.5.2.jar:/opt/hadoop/share/hadoop/hdfs/lib/avro-1.7.7.jar:/opt/hadoop/share/hadoop/hdfs/lib/stax2-api-4.2.1.jar:/opt/hadoop/share/hadoop/hdfs/lib/kerb-core-1.0.1.jar:/opt/hadoop/share/hadoop/hdfs/lib/leveldbjni-all-1.8.jar:/opt/hadoop/share/hadoop/hdfs/lib/nimbus-jose-jwt-9.8.1.jar:/opt/hadoop/share/hadoop/hdfs/lib/jersey-core-1.19.4.jar:/opt/hadoop/share/hadoop/hdfs/lib/netty-transport-rxtx-4.1.89.Final.jar:/opt/hadoop/share/hadoop/hdfs/lib/netty-transport-native-kqueue-4.1.89.Final-osx-x86_64.jar:/opt/hadoop/share/hadoop/hdfs/lib/netty-resolver-dns-native-macos-4.1.89.Final-osx-x86_64.jar:/opt/hadoop/share/hadoop/hdfs/lib/netty-codec-http-4.1.89.Final.jar:/opt/hadoop/share/hadoop/hdfs/lib/netty-codec-smtp-4.1.89.Final.jar:/opt/hadoop/share/hadoop/hdfs/lib/jettison-1.5.4.jar:/opt/hadoop/share/hadoop/hdfs/lib/dnsjava-2.1.7.jar:/opt/hadoop/share/hadoop/hdfs/lib/kerb-identity-1.0.1.jar:/opt/hadoop/share/hadoop/hdfs/hadoop-hdfs-3.3.6.jar:/opt/hadoop/share/hadoop/hdfs/hadoop-hdfs-rbf-3.3.6-tests.jar:/opt/hadoop/share/hadoop/hdfs/hadoop-hdfs-httpfs-3.3.6.jar:/opt/hadoop/share/hadoop/hdfs/hadoop-hdfs-rbf-3.3.6.jar:/opt/hadoop/share/hadoop/hdfs/hadoop-hdfs-native-client-3.3.6.jar:/opt/hadoop/share/hadoop/hdfs/hadoop-hdfs-client-3.3.6.jar:/opt/hadoop/share/hadoop/hdfs/hadoop-hdfs-native-client-3.3.6-tests.jar:/opt/hadoop/share/hadoop/hdfs/hadoop-hdfs-3.3.6-tests.jar:/opt/hadoop/share/hadoop/hdfs/hadoop-hdfs-nfs-3.3.6.jar:/opt/hadoop/share/hadoop/hdfs/hadoop-hdfs-client-3.3.6-tests.jar:/opt/hadoop/share/hadoop/mapreduce/hadoop-mapreduce-client-jobclient-3.3.6.jar:/opt/hadoop/share/hadoop/mapreduce/hadoop-mapreduce-client-jobclient-3.3.6-tests.jar:/opt/hadoop/share/hadoop/mapreduce/hadoop-mapreduce-client-uploader-3.3.6.jar:/opt/hadoop/share/hadoop/mapreduce/hadoop-mapreduce-client-app-3.3.6.jar:/opt/hadoop/share/hadoop/mapreduce/hadoop-mapreduce-client-hs-3.3.6.jar:/opt/hadoop/share/hadoop/mapreduce/hadoop-mapreduce-client-core-3.3.6.jar:/opt/hadoop/share/hadoop/mapreduce/hadoop-mapreduce-client-hs-plugins-3.3.6.jar:/opt/hadoop/share/hadoop/mapreduce/hadoop-mapreduce-client-common-3.3.6.jar:/opt/hadoop/share/hadoop/mapreduce/hadoop-mapreduce-client-shuffle-3.3.6.jar:/opt/hadoop/share/hadoop/mapreduce/hadoop-mapreduce-examples-3.3.6.jar:/opt/hadoop/share/hadoop/mapreduce/hadoop-mapreduce-client-nativetask-3.3.6.jar:/opt/hadoop/share/hadoop/yarn:/opt/hadoop/share/hadoop/yarn/lib/javax.websocket-api-1.0.jar:/opt/hadoop/share/hadoop/yarn/lib/ehcache-3.3.1.jar:/opt/hadoop/share/hadoop/yarn/lib/asm-commons-9.4.jar:/opt/hadoop/share/hadoop/yarn/lib/mssql-jdbc-6.2.1.jre7.jar:/opt/hadoop/share/hadoop/yarn/lib/guice-servlet-4.0.jar:/opt/hadoop/share/hadoop/yarn/lib/objenesis-2.6.jar:/opt/hadoop/share/hadoop/yarn/lib/websocket-servlet-9.4.51.v20230217.jar:/opt/hadoop/share/hadoop/yarn/lib/javax-websocket-client-impl-9.4.51.v20230217.jar:/opt/hadoop/share/hadoop/yarn/lib/jakarta.xml.bind-api-2.3.2.jar:/opt/hadoop/share/hadoop/yarn/lib/javax.websocket-client-api-1.0.jar:/opt/hadoop/share/hadoop/yarn/lib/websocket-client-9.4.51.v20230217.jar:/opt/hadoop/share/hadoop/yarn/lib/asm-tree-9.4.jar:/opt/hadoop/share/hadoop/yarn/lib/jetty-plus-9.4.51.v20230217.jar:/opt/hadoop/share/hadoop/yarn/lib/javax.inject-1.jar:/opt/hadoop/share/hadoop/yarn/lib/jetty-annotations-9.4.51.v20230217.jar:/opt/hadoop/share/hadoop/yarn/lib/guice-4.0.jar:/opt/hadoop/share/hadoop/yarn/lib/jersey-client-1.19.4.jar:/opt/hadoop/share/hadoop/yarn/lib/jna-5.2.0.jar:/opt/hadoop/share/hadoop/yarn/lib/bcprov-jdk15on-1.68.jar:/opt/hadoop/share/hadoop/yarn/lib/aopalliance-1.0.jar:/opt/hadoop/share/hadoop/yarn/lib/jackson-module-jaxb-annotations-2.12.7.jar:/opt/hadoop/share/hadoop/yarn/lib/jackson-jaxrs-json-provider-2.12.7.jar:/opt/hadoop/share/hadoop/yarn/lib/jline-3.9.0.jar:/opt/hadoop/share/hadoop/yarn/lib/geronimo-jcache_1.0_spec-1.0-alpha-1.jar:/opt/hadoop/share/hadoop/yarn/lib/websocket-common-9.4.51.v20230217.jar:/opt/hadoop/share/hadoop/yarn/lib/jetty-jndi-9.4.51.v20230217.jar:/opt/hadoop/share/hadoop/yarn/lib/swagger-annotations-1.5.4.jar:/opt/hadoop/share/hadoop/yarn/lib/jackson-jaxrs-base-2.12.7.jar:/opt/hadoop/share/hadoop/yarn/lib/fst-2.50.jar:/opt/hadoop/share/hadoop/yarn/lib/java-util-1.9.0.jar:/opt/hadoop/share/hadoop/yarn/lib/bcpkix-jdk15on-1.68.jar:/opt/hadoop/share/hadoop/yarn/lib/jetty-client-9.4.51.v20230217.jar:/opt/hadoop/share/hadoop/yarn/lib/websocket-server-9.4.51.v20230217.jar:/opt/hadoop/share/hadoop/yarn/lib/websocket-api-9.4.51.v20230217.jar:/opt/hadoop/share/hadoop/yarn/lib/json-io-2.5.1.jar:/opt/hadoop/share/hadoop/yarn/lib/snakeyaml-2.0.jar:/opt/hadoop/share/hadoop/yarn/lib/javax-websocket-server-impl-9.4.51.v20230217.jar:/opt/hadoop/share/hadoop/yarn/lib/jersey-guice-1.19.4.jar:/opt/hadoop/share/hadoop/yarn/hadoop-yarn-server-web-proxy-3.3.6.jar:/opt/hadoop/share/hadoop/yarn/hadoop-yarn-services-api-3.3.6.jar:/opt/hadoop/share/hadoop/yarn/hadoop-yarn-api-3.3.6.jar:/opt/hadoop/share/hadoop/yarn/hadoop-yarn-applications-mawo-core-3.3.6.jar:/opt/hadoop/share/hadoop/yarn/hadoop-yarn-server-nodemanager-3.3.6.jar:/opt/hadoop/share/hadoop/yarn/hadoop-yarn-services-core-3.3.6.jar:/opt/hadoop/share/hadoop/yarn/hadoop-yarn-server-resourcemanager-3.3.6.jar:/opt/hadoop/share/hadoop/yarn/hadoop-yarn-common-3.3.6.jar:/opt/hadoop/share/hadoop/yarn/hadoop-yarn-registry-3.3.6.jar:/opt/hadoop/share/hadoop/yarn/hadoop-yarn-server-applicationhistoryservice-3.3.6.jar:/opt/hadoop/share/hadoop/yarn/hadoop-yarn-server-tests-3.3.6.jar:/opt/hadoop/share/hadoop/yarn/hadoop-yarn-server-router-3.3.6.jar:/opt/hadoop/share/hadoop/yarn/hadoop-yarn-server-common-3.3.6.jar:/opt/hadoop/share/hadoop/yarn/hadoop-yarn-applications-unmanaged-am-launcher-3.3.6.jar:/opt/hadoop/share/hadoop/yarn/hadoop-yarn-server-sharedcachemanager-3.3.6.jar:/opt/hadoop/share/hadoop/yarn/hadoop-yarn-client-3.3.6.jar:/opt/hadoop/share/hadoop/yarn/hadoop-yarn-applications-distributedshell-3.3.6.jar:/opt/hadoop/share/hadoop/yarn/hadoop-yarn-server-timeline-pluginstorage-3.3.6.jar\n"
     ]
    }
   ],
   "source": [
    "!hadoop classpath --glob"
   ]
  },
  {
   "cell_type": "code",
   "execution_count": 6,
   "id": "cc0792c6-3ba9-49f7-8b6d-d20af040cd59",
   "metadata": {},
   "outputs": [],
   "source": [
    "import os\n",
    "os.environ['CLASSPATH'] = '/opt/hadoop/etc/hadoop:/opt/hadoop/share/hadoop/common/lib/jersey-servlet-1.19.4.jar:/opt/hadoop/share/hadoop/common/lib/netty-codec-memcache-4.1.89.Final.jar:/opt/hadoop/share/hadoop/common/lib/kerb-server-1.0.1.jar:/opt/hadoop/share/hadoop/common/lib/jul-to-slf4j-1.7.36.jar:/opt/hadoop/share/hadoop/common/lib/netty-transport-native-epoll-4.1.89.Final-linux-aarch_64.jar:/opt/hadoop/share/hadoop/common/lib/curator-recipes-5.2.0.jar:/opt/hadoop/share/hadoop/common/lib/hadoop-auth-3.3.6.jar:/opt/hadoop/share/hadoop/common/lib/netty-codec-mqtt-4.1.89.Final.jar:/opt/hadoop/share/hadoop/common/lib/javax.servlet-api-3.1.0.jar:/opt/hadoop/share/hadoop/common/lib/jsch-0.1.55.jar:/opt/hadoop/share/hadoop/common/lib/commons-daemon-1.0.13.jar:/opt/hadoop/share/hadoop/common/lib/kerb-client-1.0.1.jar:/opt/hadoop/share/hadoop/common/lib/jaxb-api-2.2.11.jar:/opt/hadoop/share/hadoop/common/lib/netty-transport-sctp-4.1.89.Final.jar:/opt/hadoop/share/hadoop/common/lib/netty-buffer-4.1.89.Final.jar:/opt/hadoop/share/hadoop/common/lib/kerb-crypto-1.0.1.jar:/opt/hadoop/share/hadoop/common/lib/commons-text-1.10.0.jar:/opt/hadoop/share/hadoop/common/lib/netty-resolver-dns-native-macos-4.1.89.Final-osx-aarch_64.jar:/opt/hadoop/share/hadoop/common/lib/commons-codec-1.15.jar:/opt/hadoop/share/hadoop/common/lib/httpcore-4.4.13.jar:/opt/hadoop/share/hadoop/common/lib/hadoop-annotations-3.3.6.jar:/opt/hadoop/share/hadoop/common/lib/commons-collections-3.2.2.jar:/opt/hadoop/share/hadoop/common/lib/woodstox-core-5.4.0.jar:/opt/hadoop/share/hadoop/common/lib/jetty-util-ajax-9.4.51.v20230217.jar:/opt/hadoop/share/hadoop/common/lib/netty-transport-native-unix-common-4.1.89.Final.jar:/opt/hadoop/share/hadoop/common/lib/audience-annotations-0.5.0.jar:/opt/hadoop/share/hadoop/common/lib/kerby-util-1.0.1.jar:/opt/hadoop/share/hadoop/common/lib/zookeeper-3.6.3.jar:/opt/hadoop/share/hadoop/common/lib/jsr311-api-1.1.1.jar:/opt/hadoop/share/hadoop/common/lib/netty-codec-http2-4.1.89.Final.jar:/opt/hadoop/share/hadoop/common/lib/token-provider-1.0.1.jar:/opt/hadoop/share/hadoop/common/lib/jetty-webapp-9.4.51.v20230217.jar:/opt/hadoop/share/hadoop/common/lib/netty-codec-redis-4.1.89.Final.jar:/opt/hadoop/share/hadoop/common/lib/jetty-util-9.4.51.v20230217.jar:/opt/hadoop/share/hadoop/common/lib/jersey-server-1.19.4.jar:/opt/hadoop/share/hadoop/common/lib/jetty-io-9.4.51.v20230217.jar:/opt/hadoop/share/hadoop/common/lib/netty-transport-classes-kqueue-4.1.89.Final.jar:/opt/hadoop/share/hadoop/common/lib/netty-handler-4.1.89.Final.jar:/opt/hadoop/share/hadoop/common/lib/curator-framework-5.2.0.jar:/opt/hadoop/share/hadoop/common/lib/netty-transport-4.1.89.Final.jar:/opt/hadoop/share/hadoop/common/lib/jetty-security-9.4.51.v20230217.jar:/opt/hadoop/share/hadoop/common/lib/kerby-asn1-1.0.1.jar:/opt/hadoop/share/hadoop/common/lib/re2j-1.1.jar:/opt/hadoop/share/hadoop/common/lib/jackson-core-asl-1.9.13.jar:/opt/hadoop/share/hadoop/common/lib/curator-client-5.2.0.jar:/opt/hadoop/share/hadoop/common/lib/netty-resolver-dns-classes-macos-4.1.89.Final.jar:/opt/hadoop/share/hadoop/common/lib/netty-all-4.1.89.Final.jar:/opt/hadoop/share/hadoop/common/lib/commons-cli-1.2.jar:/opt/hadoop/share/hadoop/common/lib/netty-transport-udt-4.1.89.Final.jar:/opt/hadoop/share/hadoop/common/lib/jetty-xml-9.4.51.v20230217.jar:/opt/hadoop/share/hadoop/common/lib/netty-codec-4.1.89.Final.jar:/opt/hadoop/share/hadoop/common/lib/jakarta.activation-api-1.2.1.jar:/opt/hadoop/share/hadoop/common/lib/jackson-mapper-asl-1.9.13.jar:/opt/hadoop/share/hadoop/common/lib/jaxb-impl-2.2.3-1.jar:/opt/hadoop/share/hadoop/common/lib/httpclient-4.5.13.jar:/opt/hadoop/share/hadoop/common/lib/jcip-annotations-1.0-1.jar:/opt/hadoop/share/hadoop/common/lib/netty-resolver-dns-4.1.89.Final.jar:/opt/hadoop/share/hadoop/common/lib/commons-io-2.8.0.jar:/opt/hadoop/share/hadoop/common/lib/netty-codec-haproxy-4.1.89.Final.jar:/opt/hadoop/share/hadoop/common/lib/jetty-server-9.4.51.v20230217.jar:/opt/hadoop/share/hadoop/common/lib/netty-transport-native-kqueue-4.1.89.Final-osx-aarch_64.jar:/opt/hadoop/share/hadoop/common/lib/snappy-java-1.1.8.2.jar:/opt/hadoop/share/hadoop/common/lib/netty-transport-classes-epoll-4.1.89.Final.jar:/opt/hadoop/share/hadoop/common/lib/failureaccess-1.0.jar:/opt/hadoop/share/hadoop/common/lib/commons-lang3-3.12.0.jar:/opt/hadoop/share/hadoop/common/lib/slf4j-reload4j-1.7.36.jar:/opt/hadoop/share/hadoop/common/lib/guava-27.0-jre.jar:/opt/hadoop/share/hadoop/common/lib/netty-common-4.1.89.Final.jar:/opt/hadoop/share/hadoop/common/lib/kerby-config-1.0.1.jar:/opt/hadoop/share/hadoop/common/lib/netty-handler-ssl-ocsp-4.1.89.Final.jar:/opt/hadoop/share/hadoop/common/lib/kerb-util-1.0.1.jar:/opt/hadoop/share/hadoop/common/lib/netty-codec-xml-4.1.89.Final.jar:/opt/hadoop/share/hadoop/common/lib/commons-net-3.9.0.jar:/opt/hadoop/share/hadoop/common/lib/netty-transport-native-epoll-4.1.89.Final-linux-x86_64.jar:/opt/hadoop/share/hadoop/common/lib/commons-configuration2-2.8.0.jar:/opt/hadoop/share/hadoop/common/lib/protobuf-java-2.5.0.jar:/opt/hadoop/share/hadoop/common/lib/netty-handler-proxy-4.1.89.Final.jar:/opt/hadoop/share/hadoop/common/lib/hadoop-shaded-protobuf_3_7-1.1.1.jar:/opt/hadoop/share/hadoop/common/lib/paranamer-2.3.jar:/opt/hadoop/share/hadoop/common/lib/commons-logging-1.1.3.jar:/opt/hadoop/share/hadoop/common/lib/commons-math3-3.1.1.jar:/opt/hadoop/share/hadoop/common/lib/kerb-common-1.0.1.jar:/opt/hadoop/share/hadoop/common/lib/kerb-admin-1.0.1.jar:/opt/hadoop/share/hadoop/common/lib/kerby-xdr-1.0.1.jar:/opt/hadoop/share/hadoop/common/lib/jsr305-3.0.2.jar:/opt/hadoop/share/hadoop/common/lib/netty-codec-stomp-4.1.89.Final.jar:/opt/hadoop/share/hadoop/common/lib/netty-codec-dns-4.1.89.Final.jar:/opt/hadoop/share/hadoop/common/lib/animal-sniffer-annotations-1.17.jar:/opt/hadoop/share/hadoop/common/lib/reload4j-1.2.22.jar:/opt/hadoop/share/hadoop/common/lib/jersey-json-1.20.jar:/opt/hadoop/share/hadoop/common/lib/jetty-servlet-9.4.51.v20230217.jar:/opt/hadoop/share/hadoop/common/lib/j2objc-annotations-1.1.jar:/opt/hadoop/share/hadoop/common/lib/netty-codec-socks-4.1.89.Final.jar:/opt/hadoop/share/hadoop/common/lib/hadoop-shaded-guava-1.1.1.jar:/opt/hadoop/share/hadoop/common/lib/commons-beanutils-1.9.4.jar:/opt/hadoop/share/hadoop/common/lib/jackson-core-2.12.7.jar:/opt/hadoop/share/hadoop/common/lib/jackson-databind-2.12.7.1.jar:/opt/hadoop/share/hadoop/common/lib/slf4j-api-1.7.36.jar:/opt/hadoop/share/hadoop/common/lib/kerby-pkix-1.0.1.jar:/opt/hadoop/share/hadoop/common/lib/listenablefuture-9999.0-empty-to-avoid-conflict-with-guava.jar:/opt/hadoop/share/hadoop/common/lib/jackson-annotations-2.12.7.jar:/opt/hadoop/share/hadoop/common/lib/commons-compress-1.21.jar:/opt/hadoop/share/hadoop/common/lib/gson-2.9.0.jar:/opt/hadoop/share/hadoop/common/lib/jetty-http-9.4.51.v20230217.jar:/opt/hadoop/share/hadoop/common/lib/netty-resolver-4.1.89.Final.jar:/opt/hadoop/share/hadoop/common/lib/zookeeper-jute-3.6.3.jar:/opt/hadoop/share/hadoop/common/lib/metrics-core-3.2.4.jar:/opt/hadoop/share/hadoop/common/lib/kerb-simplekdc-1.0.1.jar:/opt/hadoop/share/hadoop/common/lib/checker-qual-2.5.2.jar:/opt/hadoop/share/hadoop/common/lib/avro-1.7.7.jar:/opt/hadoop/share/hadoop/common/lib/stax2-api-4.2.1.jar:/opt/hadoop/share/hadoop/common/lib/kerb-core-1.0.1.jar:/opt/hadoop/share/hadoop/common/lib/nimbus-jose-jwt-9.8.1.jar:/opt/hadoop/share/hadoop/common/lib/jersey-core-1.19.4.jar:/opt/hadoop/share/hadoop/common/lib/netty-transport-rxtx-4.1.89.Final.jar:/opt/hadoop/share/hadoop/common/lib/netty-transport-native-kqueue-4.1.89.Final-osx-x86_64.jar:/opt/hadoop/share/hadoop/common/lib/jsp-api-2.1.jar:/opt/hadoop/share/hadoop/common/lib/netty-resolver-dns-native-macos-4.1.89.Final-osx-x86_64.jar:/opt/hadoop/share/hadoop/common/lib/netty-codec-http-4.1.89.Final.jar:/opt/hadoop/share/hadoop/common/lib/netty-codec-smtp-4.1.89.Final.jar:/opt/hadoop/share/hadoop/common/lib/jettison-1.5.4.jar:/opt/hadoop/share/hadoop/common/lib/dnsjava-2.1.7.jar:/opt/hadoop/share/hadoop/common/lib/kerb-identity-1.0.1.jar:/opt/hadoop/share/hadoop/common/hadoop-kms-3.3.6.jar:/opt/hadoop/share/hadoop/common/hadoop-common-3.3.6.jar:/opt/hadoop/share/hadoop/common/hadoop-registry-3.3.6.jar:/opt/hadoop/share/hadoop/common/hadoop-common-3.3.6-tests.jar:/opt/hadoop/share/hadoop/common/hadoop-nfs-3.3.6.jar:/opt/hadoop/share/hadoop/hdfs:/opt/hadoop/share/hadoop/hdfs/lib/jersey-servlet-1.19.4.jar:/opt/hadoop/share/hadoop/hdfs/lib/netty-codec-memcache-4.1.89.Final.jar:/opt/hadoop/share/hadoop/hdfs/lib/kerb-server-1.0.1.jar:/opt/hadoop/share/hadoop/hdfs/lib/netty-transport-native-epoll-4.1.89.Final-linux-aarch_64.jar:/opt/hadoop/share/hadoop/hdfs/lib/curator-recipes-5.2.0.jar:/opt/hadoop/share/hadoop/hdfs/lib/hadoop-auth-3.3.6.jar:/opt/hadoop/share/hadoop/hdfs/lib/netty-codec-mqtt-4.1.89.Final.jar:/opt/hadoop/share/hadoop/hdfs/lib/javax.servlet-api-3.1.0.jar:/opt/hadoop/share/hadoop/hdfs/lib/jsch-0.1.55.jar:/opt/hadoop/share/hadoop/hdfs/lib/commons-daemon-1.0.13.jar:/opt/hadoop/share/hadoop/hdfs/lib/kerb-client-1.0.1.jar:/opt/hadoop/share/hadoop/hdfs/lib/jaxb-api-2.2.11.jar:/opt/hadoop/share/hadoop/hdfs/lib/netty-transport-sctp-4.1.89.Final.jar:/opt/hadoop/share/hadoop/hdfs/lib/netty-buffer-4.1.89.Final.jar:/opt/hadoop/share/hadoop/hdfs/lib/kerb-crypto-1.0.1.jar:/opt/hadoop/share/hadoop/hdfs/lib/commons-text-1.10.0.jar:/opt/hadoop/share/hadoop/hdfs/lib/okio-2.8.0.jar:/opt/hadoop/share/hadoop/hdfs/lib/netty-resolver-dns-native-macos-4.1.89.Final-osx-aarch_64.jar:/opt/hadoop/share/hadoop/hdfs/lib/commons-codec-1.15.jar:/opt/hadoop/share/hadoop/hdfs/lib/httpcore-4.4.13.jar:/opt/hadoop/share/hadoop/hdfs/lib/hadoop-annotations-3.3.6.jar:/opt/hadoop/share/hadoop/hdfs/lib/commons-collections-3.2.2.jar:/opt/hadoop/share/hadoop/hdfs/lib/woodstox-core-5.4.0.jar:/opt/hadoop/share/hadoop/hdfs/lib/jetty-util-ajax-9.4.51.v20230217.jar:/opt/hadoop/share/hadoop/hdfs/lib/netty-transport-native-unix-common-4.1.89.Final.jar:/opt/hadoop/share/hadoop/hdfs/lib/audience-annotations-0.5.0.jar:/opt/hadoop/share/hadoop/hdfs/lib/kerby-util-1.0.1.jar:/opt/hadoop/share/hadoop/hdfs/lib/zookeeper-3.6.3.jar:/opt/hadoop/share/hadoop/hdfs/lib/jsr311-api-1.1.1.jar:/opt/hadoop/share/hadoop/hdfs/lib/netty-codec-http2-4.1.89.Final.jar:/opt/hadoop/share/hadoop/hdfs/lib/okhttp-4.9.3.jar:/opt/hadoop/share/hadoop/hdfs/lib/token-provider-1.0.1.jar:/opt/hadoop/share/hadoop/hdfs/lib/jetty-webapp-9.4.51.v20230217.jar:/opt/hadoop/share/hadoop/hdfs/lib/netty-codec-redis-4.1.89.Final.jar:/opt/hadoop/share/hadoop/hdfs/lib/jetty-util-9.4.51.v20230217.jar:/opt/hadoop/share/hadoop/hdfs/lib/jersey-server-1.19.4.jar:/opt/hadoop/share/hadoop/hdfs/lib/jetty-io-9.4.51.v20230217.jar:/opt/hadoop/share/hadoop/hdfs/lib/netty-transport-classes-kqueue-4.1.89.Final.jar:/opt/hadoop/share/hadoop/hdfs/lib/netty-handler-4.1.89.Final.jar:/opt/hadoop/share/hadoop/hdfs/lib/curator-framework-5.2.0.jar:/opt/hadoop/share/hadoop/hdfs/lib/netty-transport-4.1.89.Final.jar:/opt/hadoop/share/hadoop/hdfs/lib/jetty-security-9.4.51.v20230217.jar:/opt/hadoop/share/hadoop/hdfs/lib/kerby-asn1-1.0.1.jar:/opt/hadoop/share/hadoop/hdfs/lib/re2j-1.1.jar:/opt/hadoop/share/hadoop/hdfs/lib/kotlin-stdlib-1.4.10.jar:/opt/hadoop/share/hadoop/hdfs/lib/jackson-core-asl-1.9.13.jar:/opt/hadoop/share/hadoop/hdfs/lib/curator-client-5.2.0.jar:/opt/hadoop/share/hadoop/hdfs/lib/netty-resolver-dns-classes-macos-4.1.89.Final.jar:/opt/hadoop/share/hadoop/hdfs/lib/netty-all-4.1.89.Final.jar:/opt/hadoop/share/hadoop/hdfs/lib/commons-cli-1.2.jar:/opt/hadoop/share/hadoop/hdfs/lib/netty-transport-udt-4.1.89.Final.jar:/opt/hadoop/share/hadoop/hdfs/lib/jetty-xml-9.4.51.v20230217.jar:/opt/hadoop/share/hadoop/hdfs/lib/netty-codec-4.1.89.Final.jar:/opt/hadoop/share/hadoop/hdfs/lib/jakarta.activation-api-1.2.1.jar:/opt/hadoop/share/hadoop/hdfs/lib/jackson-mapper-asl-1.9.13.jar:/opt/hadoop/share/hadoop/hdfs/lib/jaxb-impl-2.2.3-1.jar:/opt/hadoop/share/hadoop/hdfs/lib/httpclient-4.5.13.jar:/opt/hadoop/share/hadoop/hdfs/lib/jcip-annotations-1.0-1.jar:/opt/hadoop/share/hadoop/hdfs/lib/netty-resolver-dns-4.1.89.Final.jar:/opt/hadoop/share/hadoop/hdfs/lib/json-simple-1.1.1.jar:/opt/hadoop/share/hadoop/hdfs/lib/commons-io-2.8.0.jar:/opt/hadoop/share/hadoop/hdfs/lib/netty-codec-haproxy-4.1.89.Final.jar:/opt/hadoop/share/hadoop/hdfs/lib/jetty-server-9.4.51.v20230217.jar:/opt/hadoop/share/hadoop/hdfs/lib/netty-transport-native-kqueue-4.1.89.Final-osx-aarch_64.jar:/opt/hadoop/share/hadoop/hdfs/lib/snappy-java-1.1.8.2.jar:/opt/hadoop/share/hadoop/hdfs/lib/netty-transport-classes-epoll-4.1.89.Final.jar:/opt/hadoop/share/hadoop/hdfs/lib/kotlin-stdlib-common-1.4.10.jar:/opt/hadoop/share/hadoop/hdfs/lib/failureaccess-1.0.jar:/opt/hadoop/share/hadoop/hdfs/lib/commons-lang3-3.12.0.jar:/opt/hadoop/share/hadoop/hdfs/lib/HikariCP-java7-2.4.12.jar:/opt/hadoop/share/hadoop/hdfs/lib/guava-27.0-jre.jar:/opt/hadoop/share/hadoop/hdfs/lib/netty-common-4.1.89.Final.jar:/opt/hadoop/share/hadoop/hdfs/lib/kerby-config-1.0.1.jar:/opt/hadoop/share/hadoop/hdfs/lib/netty-handler-ssl-ocsp-4.1.89.Final.jar:/opt/hadoop/share/hadoop/hdfs/lib/kerb-util-1.0.1.jar:/opt/hadoop/share/hadoop/hdfs/lib/netty-codec-xml-4.1.89.Final.jar:/opt/hadoop/share/hadoop/hdfs/lib/commons-net-3.9.0.jar:/opt/hadoop/share/hadoop/hdfs/lib/netty-transport-native-epoll-4.1.89.Final-linux-x86_64.jar:/opt/hadoop/share/hadoop/hdfs/lib/commons-configuration2-2.8.0.jar:/opt/hadoop/share/hadoop/hdfs/lib/protobuf-java-2.5.0.jar:/opt/hadoop/share/hadoop/hdfs/lib/netty-handler-proxy-4.1.89.Final.jar:/opt/hadoop/share/hadoop/hdfs/lib/hadoop-shaded-protobuf_3_7-1.1.1.jar:/opt/hadoop/share/hadoop/hdfs/lib/paranamer-2.3.jar:/opt/hadoop/share/hadoop/hdfs/lib/commons-logging-1.1.3.jar:/opt/hadoop/share/hadoop/hdfs/lib/commons-math3-3.1.1.jar:/opt/hadoop/share/hadoop/hdfs/lib/kerb-common-1.0.1.jar:/opt/hadoop/share/hadoop/hdfs/lib/kerb-admin-1.0.1.jar:/opt/hadoop/share/hadoop/hdfs/lib/kerby-xdr-1.0.1.jar:/opt/hadoop/share/hadoop/hdfs/lib/jsr305-3.0.2.jar:/opt/hadoop/share/hadoop/hdfs/lib/netty-codec-stomp-4.1.89.Final.jar:/opt/hadoop/share/hadoop/hdfs/lib/netty-codec-dns-4.1.89.Final.jar:/opt/hadoop/share/hadoop/hdfs/lib/netty-3.10.6.Final.jar:/opt/hadoop/share/hadoop/hdfs/lib/animal-sniffer-annotations-1.17.jar:/opt/hadoop/share/hadoop/hdfs/lib/reload4j-1.2.22.jar:/opt/hadoop/share/hadoop/hdfs/lib/jersey-json-1.20.jar:/opt/hadoop/share/hadoop/hdfs/lib/jetty-servlet-9.4.51.v20230217.jar:/opt/hadoop/share/hadoop/hdfs/lib/j2objc-annotations-1.1.jar:/opt/hadoop/share/hadoop/hdfs/lib/netty-codec-socks-4.1.89.Final.jar:/opt/hadoop/share/hadoop/hdfs/lib/hadoop-shaded-guava-1.1.1.jar:/opt/hadoop/share/hadoop/hdfs/lib/commons-beanutils-1.9.4.jar:/opt/hadoop/share/hadoop/hdfs/lib/jackson-core-2.12.7.jar:/opt/hadoop/share/hadoop/hdfs/lib/jackson-databind-2.12.7.1.jar:/opt/hadoop/share/hadoop/hdfs/lib/kerby-pkix-1.0.1.jar:/opt/hadoop/share/hadoop/hdfs/lib/listenablefuture-9999.0-empty-to-avoid-conflict-with-guava.jar:/opt/hadoop/share/hadoop/hdfs/lib/jackson-annotations-2.12.7.jar:/opt/hadoop/share/hadoop/hdfs/lib/commons-compress-1.21.jar:/opt/hadoop/share/hadoop/hdfs/lib/gson-2.9.0.jar:/opt/hadoop/share/hadoop/hdfs/lib/jetty-http-9.4.51.v20230217.jar:/opt/hadoop/share/hadoop/hdfs/lib/netty-resolver-4.1.89.Final.jar:/opt/hadoop/share/hadoop/hdfs/lib/zookeeper-jute-3.6.3.jar:/opt/hadoop/share/hadoop/hdfs/lib/metrics-core-3.2.4.jar:/opt/hadoop/share/hadoop/hdfs/lib/kerb-simplekdc-1.0.1.jar:/opt/hadoop/share/hadoop/hdfs/lib/checker-qual-2.5.2.jar:/opt/hadoop/share/hadoop/hdfs/lib/avro-1.7.7.jar:/opt/hadoop/share/hadoop/hdfs/lib/stax2-api-4.2.1.jar:/opt/hadoop/share/hadoop/hdfs/lib/kerb-core-1.0.1.jar:/opt/hadoop/share/hadoop/hdfs/lib/leveldbjni-all-1.8.jar:/opt/hadoop/share/hadoop/hdfs/lib/nimbus-jose-jwt-9.8.1.jar:/opt/hadoop/share/hadoop/hdfs/lib/jersey-core-1.19.4.jar:/opt/hadoop/share/hadoop/hdfs/lib/netty-transport-rxtx-4.1.89.Final.jar:/opt/hadoop/share/hadoop/hdfs/lib/netty-transport-native-kqueue-4.1.89.Final-osx-x86_64.jar:/opt/hadoop/share/hadoop/hdfs/lib/netty-resolver-dns-native-macos-4.1.89.Final-osx-x86_64.jar:/opt/hadoop/share/hadoop/hdfs/lib/netty-codec-http-4.1.89.Final.jar:/opt/hadoop/share/hadoop/hdfs/lib/netty-codec-smtp-4.1.89.Final.jar:/opt/hadoop/share/hadoop/hdfs/lib/jettison-1.5.4.jar:/opt/hadoop/share/hadoop/hdfs/lib/dnsjava-2.1.7.jar:/opt/hadoop/share/hadoop/hdfs/lib/kerb-identity-1.0.1.jar:/opt/hadoop/share/hadoop/hdfs/hadoop-hdfs-3.3.6.jar:/opt/hadoop/share/hadoop/hdfs/hadoop-hdfs-rbf-3.3.6-tests.jar:/opt/hadoop/share/hadoop/hdfs/hadoop-hdfs-httpfs-3.3.6.jar:/opt/hadoop/share/hadoop/hdfs/hadoop-hdfs-rbf-3.3.6.jar:/opt/hadoop/share/hadoop/hdfs/hadoop-hdfs-native-client-3.3.6.jar:/opt/hadoop/share/hadoop/hdfs/hadoop-hdfs-client-3.3.6.jar:/opt/hadoop/share/hadoop/hdfs/hadoop-hdfs-native-client-3.3.6-tests.jar:/opt/hadoop/share/hadoop/hdfs/hadoop-hdfs-3.3.6-tests.jar:/opt/hadoop/share/hadoop/hdfs/hadoop-hdfs-nfs-3.3.6.jar:/opt/hadoop/share/hadoop/hdfs/hadoop-hdfs-client-3.3.6-tests.jar:/opt/hadoop/share/hadoop/mapreduce/hadoop-mapreduce-client-jobclient-3.3.6.jar:/opt/hadoop/share/hadoop/mapreduce/hadoop-mapreduce-client-jobclient-3.3.6-tests.jar:/opt/hadoop/share/hadoop/mapreduce/hadoop-mapreduce-client-uploader-3.3.6.jar:/opt/hadoop/share/hadoop/mapreduce/hadoop-mapreduce-client-app-3.3.6.jar:/opt/hadoop/share/hadoop/mapreduce/hadoop-mapreduce-client-hs-3.3.6.jar:/opt/hadoop/share/hadoop/mapreduce/hadoop-mapreduce-client-core-3.3.6.jar:/opt/hadoop/share/hadoop/mapreduce/hadoop-mapreduce-client-hs-plugins-3.3.6.jar:/opt/hadoop/share/hadoop/mapreduce/hadoop-mapreduce-client-common-3.3.6.jar:/opt/hadoop/share/hadoop/mapreduce/hadoop-mapreduce-client-shuffle-3.3.6.jar:/opt/hadoop/share/hadoop/mapreduce/hadoop-mapreduce-examples-3.3.6.jar:/opt/hadoop/share/hadoop/mapreduce/hadoop-mapreduce-client-nativetask-3.3.6.jar:/opt/hadoop/share/hadoop/yarn:/opt/hadoop/share/hadoop/yarn/lib/javax.websocket-api-1.0.jar:/opt/hadoop/share/hadoop/yarn/lib/ehcache-3.3.1.jar:/opt/hadoop/share/hadoop/yarn/lib/asm-commons-9.4.jar:/opt/hadoop/share/hadoop/yarn/lib/mssql-jdbc-6.2.1.jre7.jar:/opt/hadoop/share/hadoop/yarn/lib/guice-servlet-4.0.jar:/opt/hadoop/share/hadoop/yarn/lib/objenesis-2.6.jar:/opt/hadoop/share/hadoop/yarn/lib/websocket-servlet-9.4.51.v20230217.jar:/opt/hadoop/share/hadoop/yarn/lib/javax-websocket-client-impl-9.4.51.v20230217.jar:/opt/hadoop/share/hadoop/yarn/lib/jakarta.xml.bind-api-2.3.2.jar:/opt/hadoop/share/hadoop/yarn/lib/javax.websocket-client-api-1.0.jar:/opt/hadoop/share/hadoop/yarn/lib/websocket-client-9.4.51.v20230217.jar:/opt/hadoop/share/hadoop/yarn/lib/asm-tree-9.4.jar:/opt/hadoop/share/hadoop/yarn/lib/jetty-plus-9.4.51.v20230217.jar:/opt/hadoop/share/hadoop/yarn/lib/javax.inject-1.jar:/opt/hadoop/share/hadoop/yarn/lib/jetty-annotations-9.4.51.v20230217.jar:/opt/hadoop/share/hadoop/yarn/lib/guice-4.0.jar:/opt/hadoop/share/hadoop/yarn/lib/jersey-client-1.19.4.jar:/opt/hadoop/share/hadoop/yarn/lib/jna-5.2.0.jar:/opt/hadoop/share/hadoop/yarn/lib/bcprov-jdk15on-1.68.jar:/opt/hadoop/share/hadoop/yarn/lib/aopalliance-1.0.jar:/opt/hadoop/share/hadoop/yarn/lib/jackson-module-jaxb-annotations-2.12.7.jar:/opt/hadoop/share/hadoop/yarn/lib/jackson-jaxrs-json-provider-2.12.7.jar:/opt/hadoop/share/hadoop/yarn/lib/jline-3.9.0.jar:/opt/hadoop/share/hadoop/yarn/lib/geronimo-jcache_1.0_spec-1.0-alpha-1.jar:/opt/hadoop/share/hadoop/yarn/lib/websocket-common-9.4.51.v20230217.jar:/opt/hadoop/share/hadoop/yarn/lib/jetty-jndi-9.4.51.v20230217.jar:/opt/hadoop/share/hadoop/yarn/lib/swagger-annotations-1.5.4.jar:/opt/hadoop/share/hadoop/yarn/lib/jackson-jaxrs-base-2.12.7.jar:/opt/hadoop/share/hadoop/yarn/lib/fst-2.50.jar:/opt/hadoop/share/hadoop/yarn/lib/java-util-1.9.0.jar:/opt/hadoop/share/hadoop/yarn/lib/bcpkix-jdk15on-1.68.jar:/opt/hadoop/share/hadoop/yarn/lib/jetty-client-9.4.51.v20230217.jar:/opt/hadoop/share/hadoop/yarn/lib/websocket-server-9.4.51.v20230217.jar:/opt/hadoop/share/hadoop/yarn/lib/websocket-api-9.4.51.v20230217.jar:/opt/hadoop/share/hadoop/yarn/lib/json-io-2.5.1.jar:/opt/hadoop/share/hadoop/yarn/lib/snakeyaml-2.0.jar:/opt/hadoop/share/hadoop/yarn/lib/javax-websocket-server-impl-9.4.51.v20230217.jar:/opt/hadoop/share/hadoop/yarn/lib/jersey-guice-1.19.4.jar:/opt/hadoop/share/hadoop/yarn/hadoop-yarn-server-web-proxy-3.3.6.jar:/opt/hadoop/share/hadoop/yarn/hadoop-yarn-services-api-3.3.6.jar:/opt/hadoop/share/hadoop/yarn/hadoop-yarn-api-3.3.6.jar:/opt/hadoop/share/hadoop/yarn/hadoop-yarn-applications-mawo-core-3.3.6.jar:/opt/hadoop/share/hadoop/yarn/hadoop-yarn-server-nodemanager-3.3.6.jar:/opt/hadoop/share/hadoop/yarn/hadoop-yarn-services-core-3.3.6.jar:/opt/hadoop/share/hadoop/yarn/hadoop-yarn-server-resourcemanager-3.3.6.jar:/opt/hadoop/share/hadoop/yarn/hadoop-yarn-common-3.3.6.jar:/opt/hadoop/share/hadoop/yarn/hadoop-yarn-registry-3.3.6.jar:/opt/hadoop/share/hadoop/yarn/hadoop-yarn-server-applicationhistoryservice-3.3.6.jar:/opt/hadoop/share/hadoop/yarn/hadoop-yarn-server-tests-3.3.6.jar:/opt/hadoop/share/hadoop/yarn/hadoop-yarn-server-router-3.3.6.jar:/opt/hadoop/share/hadoop/yarn/hadoop-yarn-server-common-3.3.6.jar:/opt/hadoop/share/hadoop/yarn/hadoop-yarn-applications-unmanaged-am-launcher-3.3.6.jar:/opt/hadoop/share/hadoop/yarn/hadoop-yarn-server-sharedcachemanager-3.3.6.jar:/opt/hadoop/share/hadoop/yarn/hadoop-yarn-client-3.3.6.jar:/opt/hadoop/share/hadoop/yarn/hadoop-yarn-applications-distributedshell-3.3.6.jar:/opt/hadoop/share/hadoop/yarn/hadoop-yarn-server-timeline-pluginstorage-3.3.6.jar'"
   ]
  },
  {
   "cell_type": "code",
   "execution_count": 7,
   "id": "be427a5f-a6a0-4d6b-945a-6aa188b4d69c",
   "metadata": {},
   "outputs": [],
   "source": [
    "from pyarrow import fs\n",
    "hdfs = fs.HadoopFileSystem(\"namenode\", 8020)"
   ]
  },
  {
   "cell_type": "code",
   "execution_count": 8,
   "id": "5d558ee2-cc23-4988-a525-c9f70dbfa2dc",
   "metadata": {},
   "outputs": [],
   "source": [
    "hdfs.create_dir(\"/pyarrow\")"
   ]
  },
  {
   "cell_type": "code",
   "execution_count": 9,
   "id": "27aaa149-6d16-44b8-ab4d-3e23d3b24e1a",
   "metadata": {},
   "outputs": [
    {
     "name": "stdout",
     "output_type": "stream",
     "text": [
      "Requirement already satisfied: mrjob in /usr/local/lib/python3.10/dist-packages (0.7.4)\n",
      "Requirement already satisfied: PyYAML>=3.10 in /usr/local/lib/python3.10/dist-packages (from mrjob) (6.0.1)\n",
      "\u001b[33mWARNING: Running pip as the 'root' user can result in broken permissions and conflicting behaviour with the system package manager. It is recommended to use a virtual environment instead: https://pip.pypa.io/warnings/venv\u001b[0m\u001b[33m\n",
      "\u001b[0m"
     ]
    }
   ],
   "source": [
    "!pip install mrjob"
   ]
  },
  {
   "cell_type": "code",
   "execution_count": 10,
   "id": "4251838c-51b3-478b-b573-5d7646ddec01",
   "metadata": {},
   "outputs": [
    {
     "name": "stdout",
     "output_type": "stream",
     "text": [
      "Overwriting config.conf\n"
     ]
    }
   ],
   "source": [
    "%%file config.conf\n",
    "\n",
    "runners:\n",
    "  hadoop: # also works for emr runner\n",
    "    jobconf:\n",
    "      mapreduce.job.reduces: 1"
   ]
  },
  {
   "cell_type": "code",
   "execution_count": 166,
   "id": "b8fbe813-c17b-4298-997f-abbe481ebd9f",
   "metadata": {},
   "outputs": [
    {
     "name": "stdout",
     "output_type": "stream",
     "text": [
      "Overwriting task.py\n"
     ]
    }
   ],
   "source": [
    "%%file task.py\n",
    "\n",
    "from mrjob.job import MRJob\n",
    "\n",
    "class MRSongCount(MRJob):\n",
    "    def mapper_init(self):\n",
    "        self.acc = {}\n",
    "    \n",
    "    def mapper(self, _, line):\n",
    "        splitted = line.split('\" \"')\n",
    "\n",
    "        if len(splitted) == 3:\n",
    "            character = splitted[1]\n",
    "            phrase = splitted[2]\n",
    "            if character not in self.acc:\n",
    "                self.acc[character] = phrase\n",
    "            elif len(self.acc[character]) < len(phrase):\n",
    "                self.acc[character] = phrase\n",
    "\n",
    "    def mapper_final(self):\n",
    "        for k, v in self.acc.items():\n",
    "            yield (k, v)\n",
    "\n",
    "    def reducer_init(self):\n",
    "        self.result = []\n",
    "    \n",
    "    def reducer(self, character, phrases):\n",
    "        self.result.append((character, sorted(phrases, key=len)[-1]))\n",
    "\n",
    "    def reducer_final(self):\n",
    "        self.result = sorted(self.result, key=lambda cp: len(cp[1]), reverse=True)\n",
    "        for val in self.result:\n",
    "            yield val\n",
    "        \n",
    "if __name__ == \"__main__\":\n",
    "    MRSongCount.run()"
   ]
  },
  {
   "cell_type": "code",
   "execution_count": 178,
   "id": "3b8091d1-f3ea-4342-8b0e-13aac4880587",
   "metadata": {},
   "outputs": [],
   "source": [
    "!python3 task.py -r hadoop hdfs://namenode:8020/pyarrow/SW_EpisodeIV.txt --conf-path config.conf -o hdfs://namenode:8020/task_2/Episode_IV -q"
   ]
  },
  {
   "cell_type": "code",
   "execution_count": 179,
   "id": "e798d769-baa4-449c-984a-072aa84940e5",
   "metadata": {},
   "outputs": [],
   "source": [
    "!python3 task.py -r hadoop hdfs://namenode:8020/pyarrow/SW_EpisodeV.txt --conf-path config.conf -o hdfs://namenode:8020/task_2/Episode_V -q"
   ]
  },
  {
   "cell_type": "code",
   "execution_count": 180,
   "id": "d940083a-17fa-4582-a12d-d6520c92a86d",
   "metadata": {},
   "outputs": [],
   "source": [
    "!python3 task.py -r hadoop hdfs://namenode:8020/pyarrow/SW_EpisodeVI.txt --conf-path config.conf -o hdfs://namenode:8020/task_2/Episode_VI -q"
   ]
  },
  {
   "cell_type": "code",
   "execution_count": 181,
   "id": "945f0e16-ddb9-4634-b993-e763ad7b86a1",
   "metadata": {},
   "outputs": [],
   "source": [
    "!python3 task.py -r hadoop hdfs://namenode:8020/pyarrow/SW_Episodes.txt --conf-path config.conf -o hdfs://namenode:8020/task_2/SW_Episodes -q"
   ]
  },
  {
   "cell_type": "code",
   "execution_count": 182,
   "id": "ffb8618f-7c3f-49fe-aa03-e4133efc912d",
   "metadata": {},
   "outputs": [],
   "source": [
    "!hadoop fs -get hdfs://namenode:8020/task_2/SW_Episodes/part-00000 task_2_episodes"
   ]
  },
  {
   "cell_type": "code",
   "execution_count": 183,
   "id": "1aba0def-3853-481f-a42d-bb87621c235b",
   "metadata": {},
   "outputs": [],
   "source": [
    "!hadoop fs -get hdfs://namenode:8020/task_2/Episode_IV/part-00000 task_2_iv_episode"
   ]
  },
  {
   "cell_type": "code",
   "execution_count": 184,
   "id": "04597090-57c7-4ad1-9a23-a6012cab5322",
   "metadata": {},
   "outputs": [],
   "source": [
    "!hadoop fs -get hdfs://namenode:8020/task_2/Episode_V/part-00000 task_2_v_episode"
   ]
  },
  {
   "cell_type": "code",
   "execution_count": 185,
   "id": "c0967131-302c-42f6-b1e4-2f8a32f52635",
   "metadata": {},
   "outputs": [],
   "source": [
    "!hadoop fs -get hdfs://namenode:8020/task_2/Episode_VI/part-00000 task_2_vi_episode"
   ]
  },
  {
   "cell_type": "code",
   "execution_count": 186,
   "id": "3c1b5095-8aae-45b1-933b-19b463951b86",
   "metadata": {},
   "outputs": [
    {
     "name": "stdout",
     "output_type": "stream",
     "text": [
      "\"BEN\"\t\"The Organa household was high-born and politically quite powerful in that system. Leia became a princess by virtue of lineage... no one knew she'd been adopted, of course. But it was a title without real power, since Alderaan had long been a democracy.  Even so, the family continued to be politically powerful, and Leia, following in her foster father's path, became a senator as well.  That's not all she became, of course... she became the leader of her cell in the Alliance against the corrupt Empire. And because she had diplomatic immunity, she was a vital link for getting information to the Rebel cause.  That's what she was doing when her path crossed yours... for her foster parents had always told her to contact me on Tatooine, if her troubles became desperate.\\\"\"\n",
      "\"LEIA\"\t\"General Kenobi, years ago you served my father in the Clone Wars.  Now he begs you to help him in his struggle against the Empire.  I regret that I am unable to present my father's request to you in person, but my ship has fallen under attack and I'm afraid my mission to bring you to Alderaan has failed.  I have placed information vital to the survival of the Rebellion into the memory systems of this R2 unit.  My father will know how to retrieve it.  You must see this droid safely delivered to him on Alderaan.  This is our most desperate hour.  Help me, Obi-Wan Kenobi, you're my only hope.\\\"\"\n",
      "\"ACKBAR\"\t\"You can see here the Death Star orbiting the forest Moon of Endor. Although the weapon systems on this Death Star are not yet operational, the Death Star does have a strong defense mechanism. It is protected by an energy shield, which is generated from the nearby forest Moon of Endor. The shield must be deactivated if any attack is to be attempted. Once the shield is down, our cruisers will create a perimeter, while the fighters fly into the superstructure and attempt to knock out the main reactor.\\\"\"\n",
      "\"LUKE\"\t\"Greetings, Exalted One. Allow me to introduce myself. I am Luke Skywalker, Jedi Knight and friend to Captain Solo. I know that you are powerful, mighty Jabba, and that your anger with Solo must be equally powerful. I seek an audience with Your Greatness to bargain for Solo's life.  With your wisdom, I'm sure that we can work out an arrangement which will be mutually beneficial and enable us to avoid any unpleasant confrontation. As a token of my goodwill, I present to you a gift: these two droids.\\\"\"\n",
      "\"MON MOTHMA\"\t\"The data brought to us by the Bothan spies pinpoints the exact location of the Emperor's new battle station. We also know that the weapon systems of this Death Star are not yet operational. With the Imperial Fleet spread throughout the galaxy in a vain effort to engage us, it is relatively unprotected. But most important of all, we've learned that the Emperor himself is personally overseeing the final stages of the construction of this Death Star.\\\"\"\n",
      "\"YODA\"\t\"Ready, are you? What know you of ready? For eight hundred years  have I trained Jedi. My own counsel will I keep on who is to be trained! A Jedi must have the deepest commitment, the most serious mind.  This one a long time have I watched. Never his mind on where he was. Hmm? What he was doing. Hmph. Adventure. Heh! Excitement. Heh! A Jedi craves not these things.  You are reckless!\\\"\"\n",
      "\"BIGGS\"\t\"I feel for you, Luke, you're going to have to learn what seems to be important or what really is important.  What good is all your uncle's work if it's taken over by the Empire?...  You know they're starting to nationalize commerce in the central systems...it won't be long before your uncle is merely a tenant, slaving for the greater glory of the Empire.\\\"\"\n",
      "\"DODONNA\"\t\"The approach will not be easy.  You are required to maneuver straight down this trench and skim the surface to this point.  The target area is only two meters wide.  It's a small thermal exhaust port, right below the main port.  The shaft leads directly to the reactor system.  A precise hit will start a chain reaction which should destroy the station.\\\"\"\n",
      "\"JABBA\"\t\"Put your blasters away.  Han, my boy, I'm only doing this because you're the best and I need you.  So, for an extra, say... twenty percent I'll give you a little more time... but this is it.  If you disappoint me again, I'll put a price on your head so large you won't be able to go near a civilized system for the rest of your short life.\\\"\"\n",
      "\"TARKIN\"\t\"Not after we demonstrate the power of this station.  In a way, you have determined the choice of the planet that'll be destroyed first.  Since you are reluctant to provide us with the location of the Rebel base, I have chosen to test this station's destructive power... on your home planet of Alderaan.\\\"\"\n",
      "\"THREEPIO\"\t\"He says he's the property of Obi-Wan Kenobi, a resident of these parts.  And it's a private message for him.  Quite frankly, sir, I don't know what he's talking about.  Our last master was Captain Antilles, but with what we've been through, this little R2 unit has become a bit eccentric.\\\"\"\n",
      "\"VADER\"\t\"There is no escape. Don't make me destroy you. You do not yet  realize your importance. You have only begun to discover you power. Join me and I will complete your training. With our combined strength, we can end this destructive conflict and bring order to the galaxy.\\\"\"\n",
      "\"HAN\"\t\"Kid, I've flown from one side of this galaxy to the other.  I've seen a lot of strange stuff, but I've never seen anything to make me believe there's one all-powerful force controlling everything.  There's no mystical energy field that controls my destiny.\\\"\"\n",
      "\"MOTTI\"\t\"Don't try to frighten us with your sorcerer's ways, Lord Vader.  Your sad devotion to that ancient religion has not helped you conjure up the stolen data tapes, or given you clairvoyance enough to find the Rebel's hidden fort...\\\"\"\n",
      "\"EMPEROR\"\t\"...are walking into a trap. As is your Rebel fleet! It was I who allowed the Alliance to know the location of the shield generator. It is quite safe from your pitiful little band. An entire legion of my best troops awaits them.\\\"\"\n",
      "\"OFFICER CASS\"\t\"Our scout ships have reached Dantooine.  They found the remains of a Rebel base, but they estimate that it has been deserted for some time.  They are now conducting an extensive search of the surrounding systems.\\\"\"\n",
      "\"LANDO\"\t\"That's always been a danger looming like a shadow over  everything we've built here. But things have developed that will insure security. I've just made a deal that will keep the Empire out of here forever.\\\"\"\n",
      "\"VEERS\"\t\"My lord, the fleet has moves out of light-speed. Com-Scan has  detected an energy field protecting an area around the sixth planet of the Hoth system. The field is strong enough to deflect any bombardment.\\\"\"\n",
      "\"GREEDO\"\t\"It's too late.  You should have paid him when you had the chance.  Jabba's put a price on your head, so large that every bounty hunter in the galaxy will be looking for you.  I'm lucky I found you first.\\\"\"\n",
      "\"OWEN\"\t\"Harvest is when I need you the most.  Only one more season.  This year we'll make enough on the harvest so I'll be able to hire some more hands.  And then you can go to the Academy next year.\\\"\"\n",
      "\"TAGGE\"\t\"And what of the Rebellion?  If the Rebels have obtained a complete technical readout of this station, it is possible, however unlikely, that they might find a weakness and exploit it.\\\"\"\n",
      "\"FIXER\"\t\"I keep telling you, the Rebellion is a long way from here.  I doubt if the Empire would even fight to keep this system.  Believe me Luke, this planet is a big hunk of nothing...\\\"\"\n",
      "\"SECOND OFFICER\"\t\"Lord Vader, the battle station plans are not aboard this ship!  And no transmissions were made.  An escape pod was jettisoned during the fighting, but no life forms were aboard.\\\"\"\n",
      "\"PIETT\"\t\"Lord Vader, our ships have completed their scan of the area and  found nothing. If the Millennium Falcon went into light-speed, it'll be on the other side of the galaxy by now.\\\"\"\n",
      "\"GENERAL MADINE\"\t\"We have stolen a small Imperial shuttle. Disguised as a cargo ship, and using a secret Imperial code, a strike team will land on the moon and deactivate the shield generator.\\\"\"\n",
      "\"OFFICER\"\t\"There's no one on board, sir.  According to the log, the crew abandoned ship right after takeoff.  It must be a decoy, sir.  Several of the escape pods have been jettisoned.\\\"\"\n",
      "\"RED LEADER\"\t\"I met your father once when I was just a boy.  He was a great pilot.  You'll do all right.  If you've got half of your father's skill, you'll do better than all right.\\\"\"\n",
      "\"COMMANDER\"\t\"This is a Rebel that surrendered to us. Although he denies it, I believe there may be more of them, and I request permission to conduct a further search of the area.\\\"\"\n",
      "\"NEEDA\"\t\"...and that, Lord Vader, was the last time they  appeared in any of our scopes. Considering the amount of damage we've sustained, they must have been destroyed.\\\"\"\n",
      "\"REBEL CAPTAIN\"\t\"Groups seven and ten will stay behind to fly the  speeders. As soon as each transport is loaded, evacuation control will give clearance for immediate launch.\\\"\"\n",
      "\"VOICE\"\t\"We've captured a freighter entering the remains of the Alderaan system.  It's markings match those of a ship that blasted its way out of Mos Eisley.\\\"\"\n",
      "\"NINEDENINE\"\t\"You're a feisty little one, but you'll soon learn some respect. I have need for you on the master's Sail Barge. And I think you'll fit in nicely.\\\"\"\n",
      "\"DEATH STAR CONTROLLER\"\t\"The security deflector shield will be deactivated when we have confirmation of your code transmission. Stand by... You are clear to proceed.\\\"\"\n",
      "\"HAN/PILOT\"\t\"It's over, Commander. The Rebels have been routed. They're fleeing into the woods. We need reinforcements to continue the pursuit.\\\"\"\n",
      "\"DEATH STAR INTERCOM VOICE\"\t\"We are approaching the planet Yavin.  The Rebel base is on a moon on the far side.  We are preparing to orbit the planet.\\\"\"\n",
      "\"RIEEKAN\"\t\"Reroute all power to the energy shield. We've got to hold  them till all transports are away. Prepare for ground assault.\\\"\"\n",
      "\"ZEV\"\t\"This is Rouge Two. this is Rouge Two. Captain  Solo, so you copy? Commander Skywalker, do you copy? This is Rouge Two.\\\"\"\n",
      "\"SHUTTLE CAPTAIN\"\t\"Command station, this is ST 321. Code Clearance Blue. We're starting our approach. Deactivate the security shield.\\\"\"\n",
      "\"CREATURE\"\t\"Not far. Yoda not far. Patience. Soon you will be with him.   Rootleaf, I cook. Why wish you become Jedi? Hm?\\\"\"\n",
      "\"HUMAN\"\t\"Don't insult us.  You just watch yourself.  We're wanted men.  I have the death sentence on twelve systems.\\\"\"\n",
      "\"DECK OFFICER\"\t\"Sir, Commander Skywalker hasn't come in through the  south entrance. He might have forgotten to check in.\\\"\"\n",
      "\"TROOPER\"\t\"The ship's all yours.  If the scanners pick up anything, report it immediately.  All right, let's go.\\\"\"\n",
      "\"CONTROLLER\"\t\"Shuttle Tydirium, deactivation of the shield will commence immediately. Follow your present course.\\\"\"\n",
      "\"WEDGE\"\t\"My scope shows the tower, but I can't see the exhaust port!  Are you sure the computer can hit it?\\\"\"\n",
      "\"ASTRO-OFFICER\"\t\"We count thirty Rebel ships, Lord Vader.  But they're so small they're evading our turbo-lasers!\\\"\"\n",
      "\"REBEL OFFICER\"\t\"We intercepted no transmissions. Aaah...  This is a consular ship. Were on a diplomatic mission.\\\"\"\n",
      "\"AUNT BERU\"\t\"Owen, he can't stay here forever.  Most of his friends have gone.  It means so much to him.\\\"\"\n",
      "\"MASSASSI INTERCOM VOICE\"\t\"Stand-by alert.  Death Star approaching.  Estimated time to firing range, fifteen minutes.\\\"\"\n",
      "\"WILLARD\"\t\"When we heard about Alderaan, we were afraid that you were... lost along with your father.\\\"\"\n",
      "\"IMPERIAL OFFICER\"\t\"The final check-out is complete.  All systems are operational.  What course shall we set?\\\"\"\n",
      "\"DERLIN\"\t\"Your Highness, there's nothing more we can do tonight. The  shield doors must be closed.\\\"\"\n",
      "\"OZZEL\"\t\"My lord, there are so many uncharted settlements. It could be  smugglers, it could be...\\\"\"\n",
      "\"CONTROL OFFICER\"\t\"Squad leaders, we've picked up a new group of signals.  Enemy fighters coming your way.\\\"\"\n",
      "\"GOLD LEADER\"\t\"Pardon me for asking, sir, but what good are snub fighters going to be against that?\\\"\"\n",
      "\"ANAKIN\"\t\"You already have, Luke. You were right about me. Tell your sister...you were right.\\\"\"\n",
      "\"BASE VOICE\"\t\"His computer's off.  Luke, you switched off your targeting computer.  What's wrong?\\\"\"\n",
      "\"DACK\"\t\"Luke, we've got a malfunction in fire control. I'll have to cut  in the auxiliary.\\\"\"\n",
      "\"INTERCOM VOICE\"\t\"Governor Tarkin, we have an emergency alert in detention block AA-twenty-three.\\\"\"\n",
      "\"GANTRY OFFICER\"\t\"TX-four-one-two.  Why aren't you at your post?  TX-four-one-two, do you copy? \\\"\"\n",
      "\"LIEUTENANT\"\t\"Sir, all the patrols are in. There's still no contact from  Skywalker or Solo.\\\"\"\n",
      "\"CAPTAIN\"\t\"Hold your fire.  There are no life forms.  It must have been short-circuited.\\\"\"\n",
      "\"JERJERROD\"\t\"Lord Vader, this is an unexpected pleasure.  We're honored by your presence.\\\"\"\n",
      "\"MAN\"\t\"All flight troops, man your stations.  All flight troops, man your stations.\\\"\"\n",
      "\"BERU\"\t\"Luke, tell Owen that if he gets a translator to be sure it speaks Bocce.\\\"\"\n",
      "\"BARTENDER\"\t\"Your droids. They'll have to wait outside.  We don't want them here.\\\"\"\n",
      "\"GOLD FIVE\"\t\"I'd say about twenty guns.  Some on the surface, some on the towers.\\\"\"\n",
      "\"CHIEF\"\t\"This R2 unit of your seems a bit beat up.  Do you want a new one?\\\"\"\n",
      "\"VOICE OVER DEATH STAR INTERCOM\"\t\"Clear Bay twenty-three-seven.  We are opening the magnetic field.\\\"\"\n",
      "\"MEDICAL DROID\"\t\"Sir, it will take quite awhile to evacuate the T-forty-  sevens.\\\"\"\n",
      "\"RED TEN\"\t\"There's a heavy fire zone on this side. Red Five, where are you?\\\"\"\n",
      "\"SECOND CONTROLLER\"\t\"Sir, we have a priority signal from the Star  Destroyer Avenger.\\\"\"\n",
      "\"FIRST TROOPER\"\t\"Someone was in the pod.  The tracks go off in this direction. \\\"\"\n",
      "\"GUARD\"\t\"Halt! The Emperor does not wish to be disturbed at the moment.\\\"\"\n",
      "\"ASSISTANT OFFICER\"\t\"I'll cover sector twelve. Have com-control set  screen alpha.\\\"\"\n",
      "\"TRACKING OFFICER\"\t\"Captain Needa, the ship no longer appears on our  scopes.\\\"\"\n",
      "\"SENIOR CONTROLLER\"\t\"No. Wait -- there's something very weak coming  through.\\\"\"\n",
      "\"BOUSHH\"\t\"Just relax for a moment. You're free of the carbonite.\\\"\"\n",
      "\"COMMUNICATIONS OFFICER\"\t\"Captain, Lord Vader demands an update on the  pursuit.\\\"\"\n",
      "\"BOBA FETT\"\t\"What if he doesn't survive? He's worth a lot to me.\\\"\"\n",
      "\"ANNOUNCER\"\t\"Headquarters personnel, report to command  center.\\\"\"\n",
      "\"CONTROL ROOM COMMANDER\"\t\"Send three squads to help. Open the back door.\\\"\"\n",
      "\"PILOT VOICE\"\t\"Parts and technical crew for the forest moon.\\\"\"\n",
      "\"IMPERIAL SOLDIER\"\t\"Lord Vader, ship approaching. X-wing class.\\\"\"\n",
      "\"SCOUT #1\"\t\"Go get your ride and take her back to base.\\\"\"\n",
      "\"STORMTROOPER\"\t\"All right, move it! I said move it! Go on!\\\"\"\n",
      "\"BIB\"\t\"Nee Jabba no badda. Me chaade su goodie.\\\"\"\n",
      "\"RED THREE\"\t\"Three of them coming in, twenty degrees!\\\"\"\n",
      "\"CAMIE\"\t\"It was just Wormie on another rampage.\\\"\"\n",
      "\"HOBBIE\"\t\"Two fighters against a Star Destroyer?\\\"\"\n",
      "\"GOLD TWO\"\t\"Computer's locked.  Getting a signal.\\\"\"\n",
      "\"OOLA\"\t\"Na Chuba negatorie Na! Na! Natoota...\\\"\"\n",
      "\"TECHNICIAN\"\t\"We'll get to work on him right away.\\\"\"\n",
      "\"HEAD CONTROLLER\"\t\"K-one-zero...all troops disengage.\\\"\"\n",
      "\"TRENCH OFFICER\"\t\"We have spotted Imperial walkers!\\\"\"\n",
      "\"WOMAN\"\t\"I've told you kids to slow down!\\\"\"\n",
      "\"WOMAN CONTROLLER\"\t\"Stand by, ion control....Fire!\\\"\"\n",
      "\"PILOT\"\t\"One-seven, decimal two-eight.\\\"\"\n",
      "\"FIRST OFFICER\"\t\"Follow me!  You stand guard.\\\"\"\n",
      "\"SCOUT\"\t\"Look! Over there! Stop him!\\\"\"\n",
      "\"BUNKER COMMANDER\"\t\"Bring those two down here!\\\"\"\n",
      "\"GREEN LEADER\"\t\"Green Leader standing by.\\\"\"\n",
      "\"JANSON\"\t\"Coming around. Once more.\\\"\"\n",
      "\"REBEL PILOT\"\t\"There's too many of them!\\\"\"\n",
      "\"SCOUT #l\"\t\"Freeze!  Come on, get up!\\\"\"\n",
      "\"SECOND TROOPER\"\t\"Maybe it's another drill.\\\"\"\n",
      "\"GRAY LEADER\"\t\"Gray Leader standing by.\\\"\"\n",
      "\"CHIEF PILOT\"\t\"There goes another one.\\\"\"\n",
      "\"RED ELEVEN\"\t\"Red Eleven standing by.\\\"\"\n",
      "\"DEAK\"\t\"Not again!  Forget it.\\\"\"\n",
      "\"RED SEVEN\"\t\"Red Seven standing by.\\\"\"\n",
      "\"PILOT #2\"\t\"Get him off of there!\\\"\"\n",
      "\"RED NINE\"\t\"Red Nine standing by.\\\"\"\n",
      "\"PORKINS\"\t\"Red Six standing by.\\\"\"\n",
      "\"STRANGE VOICE\"\t\"Tee chuta hhat yudd!\\\"\"\n",
      "\"NAVIGATOR\"\t\"Pressure's steady.\\\"\"\n",
      "\"TROOPER VOICE\"\t\"Open up in there!\\\"\"\n",
      "\"LURE\"\t\"But you'll die.\\\"\"\n",
      "\"PILOTS\"\t\"Right. Okay.\\\"\"\n",
      "\"REBEL FIGHTER\"\t\"Right, sir.\\\"\"\n",
      "\"FIRST CONTROLLER\"\t\"Yes, sir.\\\"\"\n",
      "\"OPERATOR\"\t\"Yes, sir.\\\"\"\n",
      "\"SCOUT #2\"\t\"Yes, sir.\\\"\"\n",
      "\"SECOND COMMANDER\"\t\"Yes, sir.\\\"\"\n",
      "\"SECOND THREEPIO\"\t\"E chu ta!\\\"\"\n",
      "\"WINGMAN\"\t\"Yes, sir.\\\"\"\n",
      "\"Y-WING PILOT\"\t\"I'm hit!\\\"\"\n",
      "\"RED TWO\"\t\"Got it!\\\"\"\n",
      "\"HAN and LUKE\"\t\"Leia!\\\"\"\n",
      "\"WALKER PILOT #1\"\t\"Look!\\\"\"\n"
     ]
    }
   ],
   "source": [
    "cat task_2_episodes"
   ]
  },
  {
   "cell_type": "code",
   "execution_count": 187,
   "id": "86338662-a1a0-4548-849e-e16d1fc142eb",
   "metadata": {},
   "outputs": [
    {
     "name": "stdout",
     "output_type": "stream",
     "text": [
      "\"LEIA\"\t\"General Kenobi, years ago you served my father in the Clone Wars.  Now he begs you to help him in his struggle against the Empire.  I regret that I am unable to present my father's request to you in person, but my ship has fallen under attack and I'm afraid my mission to bring you to Alderaan has failed.  I have placed information vital to the survival of the Rebellion into the memory systems of this R2 unit.  My father will know how to retrieve it.  You must see this droid safely delivered to him on Alderaan.  This is our most desperate hour.  Help me, Obi-Wan Kenobi, you're my only hope.\\\"\"\n",
      "\"BIGGS\"\t\"I feel for you, Luke, you're going to have to learn what seems to be important or what really is important.  What good is all your uncle's work if it's taken over by the Empire?...  You know they're starting to nationalize commerce in the central systems...it won't be long before your uncle is merely a tenant, slaving for the greater glory of the Empire.\\\"\"\n",
      "\"DODONNA\"\t\"The approach will not be easy.  You are required to maneuver straight down this trench and skim the surface to this point.  The target area is only two meters wide.  It's a small thermal exhaust port, right below the main port.  The shaft leads directly to the reactor system.  A precise hit will start a chain reaction which should destroy the station.\\\"\"\n",
      "\"JABBA\"\t\"Put your blasters away.  Han, my boy, I'm only doing this because you're the best and I need you.  So, for an extra, say... twenty percent I'll give you a little more time... but this is it.  If you disappoint me again, I'll put a price on your head so large you won't be able to go near a civilized system for the rest of your short life.\\\"\"\n",
      "\"LUKE\"\t\"... so I cut off my power, shut down the afterburners and came in low on Deak's trail.  I was so close I thought I was going to fry my instruments. As it was I busted up the Skyhopper pretty bad.  Uncle Owen was pretty upset.  He grounded me for the rest of the season.  You should have been there... it was fantastic.\\\"\"\n",
      "\"TARKIN\"\t\"Not after we demonstrate the power of this station.  In a way, you have determined the choice of the planet that'll be destroyed first.  Since you are reluctant to provide us with the location of the Rebel base, I have chosen to test this station's destructive power... on your home planet of Alderaan.\\\"\"\n",
      "\"THREEPIO\"\t\"He says he's the property of Obi-Wan Kenobi, a resident of these parts.  And it's a private message for him.  Quite frankly, sir, I don't know what he's talking about.  Our last master was Captain Antilles, but with what we've been through, this little R2 unit has become a bit eccentric.\\\"\"\n",
      "\"BEN\"\t\"A young Jedi named Darth Vader, who was a pupil of mine until he turned to evil, helped the Empire hunt down and destroy the Jedi Knights.  He betrayed and murdered your father.  Now the Jedi are all but extinct.  Vader was seduced by the dark side of the Force.\\\"\"\n",
      "\"VADER\"\t\"Don't play games with me, Your Highness.  You weren't on any mercy mission this time.  You passed directly through a restricted system.  Several transmissions were beamed to this ship by Rebel spies.  I want to know what happened to the plans they sent you.\\\"\"\n",
      "\"HAN\"\t\"Kid, I've flown from one side of this galaxy to the other.  I've seen a lot of strange stuff, but I've never seen anything to make me believe there's one all-powerful force controlling everything.  There's no mystical energy field that controls my destiny.\\\"\"\n",
      "\"MOTTI\"\t\"Don't try to frighten us with your sorcerer's ways, Lord Vader.  Your sad devotion to that ancient religion has not helped you conjure up the stolen data tapes, or given you clairvoyance enough to find the Rebel's hidden fort...\\\"\"\n",
      "\"OFFICER CASS\"\t\"Our scout ships have reached Dantooine.  They found the remains of a Rebel base, but they estimate that it has been deserted for some time.  They are now conducting an extensive search of the surrounding systems.\\\"\"\n",
      "\"GREEDO\"\t\"It's too late.  You should have paid him when you had the chance.  Jabba's put a price on your head, so large that every bounty hunter in the galaxy will be looking for you.  I'm lucky I found you first.\\\"\"\n",
      "\"OWEN\"\t\"Harvest is when I need you the most.  Only one more season.  This year we'll make enough on the harvest so I'll be able to hire some more hands.  And then you can go to the Academy next year.\\\"\"\n",
      "\"TAGGE\"\t\"And what of the Rebellion?  If the Rebels have obtained a complete technical readout of this station, it is possible, however unlikely, that they might find a weakness and exploit it.\\\"\"\n",
      "\"FIXER\"\t\"I keep telling you, the Rebellion is a long way from here.  I doubt if the Empire would even fight to keep this system.  Believe me Luke, this planet is a big hunk of nothing...\\\"\"\n",
      "\"SECOND OFFICER\"\t\"Lord Vader, the battle station plans are not aboard this ship!  And no transmissions were made.  An escape pod was jettisoned during the fighting, but no life forms were aboard.\\\"\"\n",
      "\"OFFICER\"\t\"There's no one on board, sir.  According to the log, the crew abandoned ship right after takeoff.  It must be a decoy, sir.  Several of the escape pods have been jettisoned.\\\"\"\n",
      "\"RED LEADER\"\t\"I met your father once when I was just a boy.  He was a great pilot.  You'll do all right.  If you've got half of your father's skill, you'll do better than all right.\\\"\"\n",
      "\"VOICE\"\t\"We've captured a freighter entering the remains of the Alderaan system.  It's markings match those of a ship that blasted its way out of Mos Eisley.\\\"\"\n",
      "\"DEATH STAR INTERCOM VOICE\"\t\"We are approaching the planet Yavin.  The Rebel base is on a moon on the far side.  We are preparing to orbit the planet.\\\"\"\n",
      "\"COMMANDER\"\t\"Holding her is dangerous.  If word of this gets out, it could generate sympathy for the Rebellion in the senate.\\\"\"\n",
      "\"HUMAN\"\t\"Don't insult us.  You just watch yourself.  We're wanted men.  I have the death sentence on twelve systems.\\\"\"\n",
      "\"TROOPER\"\t\"The ship's all yours.  If the scanners pick up anything, report it immediately.  All right, let's go.\\\"\"\n",
      "\"WEDGE\"\t\"My scope shows the tower, but I can't see the exhaust port!  Are you sure the computer can hit it?\\\"\"\n",
      "\"ASTRO-OFFICER\"\t\"We count thirty Rebel ships, Lord Vader.  But they're so small they're evading our turbo-lasers!\\\"\"\n",
      "\"REBEL OFFICER\"\t\"We intercepted no transmissions. Aaah...  This is a consular ship. Were on a diplomatic mission.\\\"\"\n",
      "\"AUNT BERU\"\t\"Owen, he can't stay here forever.  Most of his friends have gone.  It means so much to him.\\\"\"\n",
      "\"MASSASSI INTERCOM VOICE\"\t\"Stand-by alert.  Death Star approaching.  Estimated time to firing range, fifteen minutes.\\\"\"\n",
      "\"WILLARD\"\t\"When we heard about Alderaan, we were afraid that you were... lost along with your father.\\\"\"\n",
      "\"IMPERIAL OFFICER\"\t\"The final check-out is complete.  All systems are operational.  What course shall we set?\\\"\"\n",
      "\"CONTROL OFFICER\"\t\"Squad leaders, we've picked up a new group of signals.  Enemy fighters coming your way.\\\"\"\n",
      "\"GOLD LEADER\"\t\"Pardon me for asking, sir, but what good are snub fighters going to be against that?\\\"\"\n",
      "\"BASE VOICE\"\t\"His computer's off.  Luke, you switched off your targeting computer.  What's wrong?\\\"\"\n",
      "\"INTERCOM VOICE\"\t\"Governor Tarkin, we have an emergency alert in detention block AA-twenty-three.\\\"\"\n",
      "\"GANTRY OFFICER\"\t\"TX-four-one-two.  Why aren't you at your post?  TX-four-one-two, do you copy? \\\"\"\n",
      "\"CAPTAIN\"\t\"Hold your fire.  There are no life forms.  It must have been short-circuited.\\\"\"\n",
      "\"MAN\"\t\"All flight troops, man your stations.  All flight troops, man your stations.\\\"\"\n",
      "\"BERU\"\t\"Luke, tell Owen that if he gets a translator to be sure it speaks Bocce.\\\"\"\n",
      "\"BARTENDER\"\t\"Your droids. They'll have to wait outside.  We don't want them here.\\\"\"\n",
      "\"GOLD FIVE\"\t\"I'd say about twenty guns.  Some on the surface, some on the towers.\\\"\"\n",
      "\"CHIEF\"\t\"This R2 unit of your seems a bit beat up.  Do you want a new one?\\\"\"\n",
      "\"VOICE OVER DEATH STAR INTERCOM\"\t\"Clear Bay twenty-three-seven.  We are opening the magnetic field.\\\"\"\n",
      "\"RED TEN\"\t\"There's a heavy fire zone on this side. Red Five, where are you?\\\"\"\n",
      "\"FIRST TROOPER\"\t\"Someone was in the pod.  The tracks go off in this direction. \\\"\"\n",
      "\"CAMIE\"\t\"It was just Wormie on another rampage.\\\"\"\n",
      "\"GOLD TWO\"\t\"Computer's locked.  Getting a signal.\\\"\"\n",
      "\"TECHNICIAN\"\t\"We'll get to work on him right away.\\\"\"\n",
      "\"WOMAN\"\t\"I've told you kids to slow down!\\\"\"\n",
      "\"CREATURE\"\t\"Negola dewaghi wooldugger?!?\\\"\"\n",
      "\"FIRST OFFICER\"\t\"Follow me!  You stand guard.\\\"\"\n",
      "\"SECOND TROOPER\"\t\"Maybe it's another drill.\\\"\"\n",
      "\"CHIEF PILOT\"\t\"There goes another one.\\\"\"\n",
      "\"RED ELEVEN\"\t\"Red Eleven standing by.\\\"\"\n",
      "\"DEAK\"\t\"Not again!  Forget it.\\\"\"\n",
      "\"RED SEVEN\"\t\"Red Seven standing by.\\\"\"\n",
      "\"RED NINE\"\t\"Red Nine standing by.\\\"\"\n",
      "\"PORKINS\"\t\"Red Six standing by.\\\"\"\n",
      "\"TROOPER VOICE\"\t\"Open up in there!\\\"\"\n",
      "\"WINGMAN\"\t\"Yes, sir.\\\"\"\n"
     ]
    }
   ],
   "source": [
    "cat task_2_iv_episode"
   ]
  },
  {
   "cell_type": "code",
   "execution_count": 193,
   "id": "e6676fca-bd6a-43ed-9bef-d79537c5481a",
   "metadata": {},
   "outputs": [
    {
     "name": "stdout",
     "output_type": "stream",
     "text": [
      "\"YODA\"\t\"Ready, are you? What know you of ready? For eight hundred years  have I trained Jedi. My own counsel will I keep on who is to be trained! A Jedi must have the deepest commitment, the most serious mind.  This one a long time have I watched. Never his mind on where he was. Hmm? What he was doing. Hmph. Adventure. Heh! Excitement. Heh! A Jedi craves not these things.  You are reckless!\\\"\"\n",
      "\"VADER\"\t\"There is no escape. Don't make me destroy you. You do not yet  realize your importance. You have only begun to discover you power. Join me and I will complete your training. With our combined strength, we can end this destructive conflict and bring order to the galaxy.\\\"\"\n",
      "\"LEIA\"\t\"All troop carriers will assemble at the north entrance. The  heavy transport ships will leave as soon as they're loaded. Only two fighter escorts per ship. The energy shield can only be opened for a short time, so you'll have to stay very close to your transports.\\\"\"\n",
      "\"THREEPIO\"\t\"Don't try to blame me. I didn't ask you to turn on the  thermal heater. I merely commented that it was freezing in the princess's chamber. But it's supposed to be freezing. How are we going to dry out all her clothes? I really don't know.\\\"\"\n",
      "\"LANDO\"\t\"That's always been a danger looming like a shadow over  everything we've built here. But things have developed that will insure security. I've just made a deal that will keep the Empire out of here forever.\\\"\"\n",
      "\"VEERS\"\t\"My lord, the fleet has moves out of light-speed. Com-Scan has  detected an energy field protecting an area around the sixth planet of the Hoth system. The field is strong enough to deflect any bombardment.\\\"\"\n",
      "\"LUKE\"\t\"If you're saying coming here was a bad idea, I'm beginning to  agree with you. Oh, Artoo, what are we doing here? It's like... something out of a dream, or, I don't know. Maybe I'm just going crazy.\\\"\"\n",
      "\"PIETT\"\t\"Lord Vader, our ships have completed their scan of the area and  found nothing. If the Millennium Falcon went into light-speed, it'll be on the other side of the galaxy by now.\\\"\"\n",
      "\"NEEDA\"\t\"...and that, Lord Vader, was the last time they  appeared in any of our scopes. Considering the amount of damage we've sustained, they must have been destroyed.\\\"\"\n",
      "\"REBEL CAPTAIN\"\t\"Groups seven and ten will stay behind to fly the  speeders. As soon as each transport is loaded, evacuation control will give clearance for immediate launch.\\\"\"\n",
      "\"HAN\"\t\"Yeah, that's what I thought. Mynock. Chewie, check the rest of  the ship, make sure there aren't any more attached. They're chewing on the power cables.\\\"\"\n",
      "\"RIEEKAN\"\t\"Reroute all power to the energy shield. We've got to hold  them till all transports are away. Prepare for ground assault.\\\"\"\n",
      "\"ZEV\"\t\"This is Rouge Two. this is Rouge Two. Captain  Solo, so you copy? Commander Skywalker, do you copy? This is Rouge Two.\\\"\"\n",
      "\"BEN\"\t\"But you cannot control it. This is a dangerous time for you, when  you will be tempted by the dark side of the Force.\\\"\"\n",
      "\"CREATURE\"\t\"Not far. Yoda not far. Patience. Soon you will be with him.   Rootleaf, I cook. Why wish you become Jedi? Hm?\\\"\"\n",
      "\"DECK OFFICER\"\t\"Sir, Commander Skywalker hasn't come in through the  south entrance. He might have forgotten to check in.\\\"\"\n",
      "\"DERLIN\"\t\"Your Highness, there's nothing more we can do tonight. The  shield doors must be closed.\\\"\"\n",
      "\"OZZEL\"\t\"My lord, there are so many uncharted settlements. It could be  smugglers, it could be...\\\"\"\n",
      "\"CONTROLLER\"\t\"General, there's a fleet of Star Destroyers coming out of  hyperspace in sector four.\\\"\"\n",
      "\"DACK\"\t\"Luke, we've got a malfunction in fire control. I'll have to cut  in the auxiliary.\\\"\"\n",
      "\"LIEUTENANT\"\t\"Sir, all the patrols are in. There's still no contact from  Skywalker or Solo.\\\"\"\n",
      "\"EMPEROR\"\t\"The Force is strong with him. The son of Skywalker must not  become a Jedi.\\\"\"\n",
      "\"MEDICAL DROID\"\t\"Sir, it will take quite awhile to evacuate the T-forty-  sevens.\\\"\"\n",
      "\"SECOND CONTROLLER\"\t\"Sir, we have a priority signal from the Star  Destroyer Avenger.\\\"\"\n",
      "\"ASSISTANT OFFICER\"\t\"I'll cover sector twelve. Have com-control set  screen alpha.\\\"\"\n",
      "\"TRACKING OFFICER\"\t\"Captain Needa, the ship no longer appears on our  scopes.\\\"\"\n",
      "\"INTERCOM VOICE\"\t\"Permission granted to land on Platform  Three-two-seven.\\\"\"\n",
      "\"SENIOR CONTROLLER\"\t\"No. Wait -- there's something very weak coming  through.\\\"\"\n",
      "\"COMMUNICATIONS OFFICER\"\t\"Captain, Lord Vader demands an update on the  pursuit.\\\"\"\n",
      "\"BOBA FETT\"\t\"What if he doesn't survive? He's worth a lot to me.\\\"\"\n",
      "\"ANNOUNCER\"\t\"Headquarters personnel, report to command  center.\\\"\"\n",
      "\"IMPERIAL SOLDIER\"\t\"Lord Vader, ship approaching. X-wing class.\\\"\"\n",
      "\"WEDGE\"\t\"Good luck, Luke. See you at the rendezvous.\\\"\"\n",
      "\"HOBBIE\"\t\"Two fighters against a Star Destroyer?\\\"\"\n",
      "\"IMPERIAL OFFICER\"\t\"Skywalker has just landed, my lord.\\\"\"\n",
      "\"HEAD CONTROLLER\"\t\"K-one-zero...all troops disengage.\\\"\"\n",
      "\"CAPTAIN\"\t\"Good. Our first catch of the day.\\\"\"\n",
      "\"TRENCH OFFICER\"\t\"We have spotted Imperial walkers!\\\"\"\n",
      "\"WOMAN CONTROLLER\"\t\"Stand by, ion control....Fire!\\\"\"\n",
      "\"PILOT\"\t\"One-seven, decimal two-eight.\\\"\"\n",
      "\"JANSON\"\t\"Coming around. Once more.\\\"\"\n",
      "\"STRANGE VOICE\"\t\"Feel like what?\\\"\"\n",
      "\"OFFICER\"\t\"Begin retreat!\\\"\"\n",
      "\"MAN\"\t\"Who are you?\\\"\"\n",
      "\"PILOTS\"\t\"Right. Okay.\\\"\"\n",
      "\"REBEL FIGHTER\"\t\"Right, sir.\\\"\"\n",
      "\"SECOND OFFICER\"\t\"Fall back!\\\"\"\n",
      "\"FIRST CONTROLLER\"\t\"Yes, sir.\\\"\"\n",
      "\"SECOND THREEPIO\"\t\"E chu ta!\\\"\"\n"
     ]
    }
   ],
   "source": [
    "cat task_2_v_episode"
   ]
  },
  {
   "cell_type": "code",
   "execution_count": 194,
   "id": "ee18cd60-ced2-4925-a786-d5d65062ce36",
   "metadata": {},
   "outputs": [
    {
     "name": "stdout",
     "output_type": "stream",
     "text": [
      "\"YODA\"\t\"Ready, are you? What know you of ready? For eight hundred years  have I trained Jedi. My own counsel will I keep on who is to be trained! A Jedi must have the deepest commitment, the most serious mind.  This one a long time have I watched. Never his mind on where he was. Hmm? What he was doing. Hmph. Adventure. Heh! Excitement. Heh! A Jedi craves not these things.  You are reckless!\\\"\"\n",
      "\"VADER\"\t\"There is no escape. Don't make me destroy you. You do not yet  realize your importance. You have only begun to discover you power. Join me and I will complete your training. With our combined strength, we can end this destructive conflict and bring order to the galaxy.\\\"\"\n",
      "\"LEIA\"\t\"All troop carriers will assemble at the north entrance. The  heavy transport ships will leave as soon as they're loaded. Only two fighter escorts per ship. The energy shield can only be opened for a short time, so you'll have to stay very close to your transports.\\\"\"\n",
      "\"THREEPIO\"\t\"Don't try to blame me. I didn't ask you to turn on the  thermal heater. I merely commented that it was freezing in the princess's chamber. But it's supposed to be freezing. How are we going to dry out all her clothes? I really don't know.\\\"\"\n",
      "\"LANDO\"\t\"That's always been a danger looming like a shadow over  everything we've built here. But things have developed that will insure security. I've just made a deal that will keep the Empire out of here forever.\\\"\"\n",
      "\"VEERS\"\t\"My lord, the fleet has moves out of light-speed. Com-Scan has  detected an energy field protecting an area around the sixth planet of the Hoth system. The field is strong enough to deflect any bombardment.\\\"\"\n",
      "\"LUKE\"\t\"If you're saying coming here was a bad idea, I'm beginning to  agree with you. Oh, Artoo, what are we doing here? It's like... something out of a dream, or, I don't know. Maybe I'm just going crazy.\\\"\"\n",
      "\"PIETT\"\t\"Lord Vader, our ships have completed their scan of the area and  found nothing. If the Millennium Falcon went into light-speed, it'll be on the other side of the galaxy by now.\\\"\"\n",
      "\"NEEDA\"\t\"...and that, Lord Vader, was the last time they  appeared in any of our scopes. Considering the amount of damage we've sustained, they must have been destroyed.\\\"\"\n",
      "\"REBEL CAPTAIN\"\t\"Groups seven and ten will stay behind to fly the  speeders. As soon as each transport is loaded, evacuation control will give clearance for immediate launch.\\\"\"\n",
      "\"HAN\"\t\"Yeah, that's what I thought. Mynock. Chewie, check the rest of  the ship, make sure there aren't any more attached. They're chewing on the power cables.\\\"\"\n",
      "\"RIEEKAN\"\t\"Reroute all power to the energy shield. We've got to hold  them till all transports are away. Prepare for ground assault.\\\"\"\n",
      "\"ZEV\"\t\"This is Rouge Two. this is Rouge Two. Captain  Solo, so you copy? Commander Skywalker, do you copy? This is Rouge Two.\\\"\"\n",
      "\"BEN\"\t\"But you cannot control it. This is a dangerous time for you, when  you will be tempted by the dark side of the Force.\\\"\"\n",
      "\"CREATURE\"\t\"Not far. Yoda not far. Patience. Soon you will be with him.   Rootleaf, I cook. Why wish you become Jedi? Hm?\\\"\"\n",
      "\"DECK OFFICER\"\t\"Sir, Commander Skywalker hasn't come in through the  south entrance. He might have forgotten to check in.\\\"\"\n",
      "\"DERLIN\"\t\"Your Highness, there's nothing more we can do tonight. The  shield doors must be closed.\\\"\"\n",
      "\"OZZEL\"\t\"My lord, there are so many uncharted settlements. It could be  smugglers, it could be...\\\"\"\n",
      "\"CONTROLLER\"\t\"General, there's a fleet of Star Destroyers coming out of  hyperspace in sector four.\\\"\"\n",
      "\"DACK\"\t\"Luke, we've got a malfunction in fire control. I'll have to cut  in the auxiliary.\\\"\"\n",
      "\"LIEUTENANT\"\t\"Sir, all the patrols are in. There's still no contact from  Skywalker or Solo.\\\"\"\n",
      "\"EMPEROR\"\t\"The Force is strong with him. The son of Skywalker must not  become a Jedi.\\\"\"\n",
      "\"MEDICAL DROID\"\t\"Sir, it will take quite awhile to evacuate the T-forty-  sevens.\\\"\"\n",
      "\"SECOND CONTROLLER\"\t\"Sir, we have a priority signal from the Star  Destroyer Avenger.\\\"\"\n",
      "\"ASSISTANT OFFICER\"\t\"I'll cover sector twelve. Have com-control set  screen alpha.\\\"\"\n",
      "\"TRACKING OFFICER\"\t\"Captain Needa, the ship no longer appears on our  scopes.\\\"\"\n",
      "\"INTERCOM VOICE\"\t\"Permission granted to land on Platform  Three-two-seven.\\\"\"\n",
      "\"SENIOR CONTROLLER\"\t\"No. Wait -- there's something very weak coming  through.\\\"\"\n",
      "\"COMMUNICATIONS OFFICER\"\t\"Captain, Lord Vader demands an update on the  pursuit.\\\"\"\n",
      "\"BOBA FETT\"\t\"What if he doesn't survive? He's worth a lot to me.\\\"\"\n",
      "\"ANNOUNCER\"\t\"Headquarters personnel, report to command  center.\\\"\"\n",
      "\"IMPERIAL SOLDIER\"\t\"Lord Vader, ship approaching. X-wing class.\\\"\"\n",
      "\"WEDGE\"\t\"Good luck, Luke. See you at the rendezvous.\\\"\"\n",
      "\"HOBBIE\"\t\"Two fighters against a Star Destroyer?\\\"\"\n",
      "\"IMPERIAL OFFICER\"\t\"Skywalker has just landed, my lord.\\\"\"\n",
      "\"HEAD CONTROLLER\"\t\"K-one-zero...all troops disengage.\\\"\"\n",
      "\"CAPTAIN\"\t\"Good. Our first catch of the day.\\\"\"\n",
      "\"TRENCH OFFICER\"\t\"We have spotted Imperial walkers!\\\"\"\n",
      "\"WOMAN CONTROLLER\"\t\"Stand by, ion control....Fire!\\\"\"\n",
      "\"PILOT\"\t\"One-seven, decimal two-eight.\\\"\"\n",
      "\"JANSON\"\t\"Coming around. Once more.\\\"\"\n",
      "\"STRANGE VOICE\"\t\"Feel like what?\\\"\"\n",
      "\"OFFICER\"\t\"Begin retreat!\\\"\"\n",
      "\"MAN\"\t\"Who are you?\\\"\"\n",
      "\"PILOTS\"\t\"Right. Okay.\\\"\"\n",
      "\"REBEL FIGHTER\"\t\"Right, sir.\\\"\"\n",
      "\"SECOND OFFICER\"\t\"Fall back!\\\"\"\n",
      "\"FIRST CONTROLLER\"\t\"Yes, sir.\\\"\"\n",
      "\"SECOND THREEPIO\"\t\"E chu ta!\\\"\"\n"
     ]
    }
   ],
   "source": [
    "cat task_2_vi_episode"
   ]
  }
 ],
 "metadata": {
  "kernelspec": {
   "display_name": "Python 3 (ipykernel)",
   "language": "python",
   "name": "python3"
  },
  "language_info": {
   "codemirror_mode": {
    "name": "ipython",
    "version": 3
   },
   "file_extension": ".py",
   "mimetype": "text/x-python",
   "name": "python",
   "nbconvert_exporter": "python",
   "pygments_lexer": "ipython3",
   "version": "3.10.12"
  }
 },
 "nbformat": 4,
 "nbformat_minor": 5
}
