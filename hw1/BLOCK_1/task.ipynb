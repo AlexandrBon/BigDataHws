{
 "cells": [
  {
   "cell_type": "code",
   "execution_count": 11,
   "id": "8f6cd276-3b51-4e87-afd7-2c3c13ef9ba5",
   "metadata": {},
   "outputs": [],
   "source": [
    "!hadoop fs -put input.txt /"
   ]
  },
  {
   "cell_type": "code",
   "execution_count": 13,
   "id": "2e096b92-efb8-4f0f-8461-2f7d4231018f",
   "metadata": {},
   "outputs": [
    {
     "name": "stdout",
     "output_type": "stream",
     "text": [
      "Found 1 items\n",
      "-rw-r--r--   3 root supergroup          3 2023-12-03 18:33 /input.txt\n"
     ]
    }
   ],
   "source": [
    "!hadoop fs -ls /"
   ]
  },
  {
   "cell_type": "code",
   "execution_count": 16,
   "id": "78081630-765a-4c58-9068-f42aa319bbea",
   "metadata": {},
   "outputs": [
    {
     "name": "stdout",
     "output_type": "stream",
     "text": [
      "123"
     ]
    }
   ],
   "source": [
    "!hadoop fs -cat /input.txt"
   ]
  },
  {
   "cell_type": "code",
   "execution_count": 17,
   "id": "dbc8d8d4-aa1d-4c5e-81b4-c593b68ce130",
   "metadata": {},
   "outputs": [
    {
     "name": "stdout",
     "output_type": "stream",
     "text": [
      "Number of Maps  = 15\n",
      "Samples per Map = 1800\n",
      "Wrote input for Map #0\n",
      "Wrote input for Map #1\n",
      "Wrote input for Map #2\n",
      "Wrote input for Map #3\n",
      "Wrote input for Map #4\n",
      "Wrote input for Map #5\n",
      "Wrote input for Map #6\n",
      "Wrote input for Map #7\n",
      "Wrote input for Map #8\n",
      "Wrote input for Map #9\n",
      "Wrote input for Map #10\n",
      "Wrote input for Map #11\n",
      "Wrote input for Map #12\n",
      "Wrote input for Map #13\n",
      "Wrote input for Map #14\n",
      "Starting Job\n",
      "2023-12-03 18:35:03 INFO  DefaultNoHARMFailoverProxyProvider:64 - Connecting to ResourceManager at resourcemanager/172.18.0.5:8032\n",
      "2023-12-03 18:35:03 INFO  JobResourceUploader:907 - Disabling Erasure Coding for path: /tmp/hadoop-yarn/staging/root/.staging/job_1701616555915_0001\n",
      "2023-12-03 18:35:03 INFO  FileInputFormat:300 - Total input files to process : 15\n",
      "2023-12-03 18:35:03 INFO  JobSubmitter:202 - number of splits:15\n",
      "2023-12-03 18:35:03 INFO  JobSubmitter:298 - Submitting tokens for job: job_1701616555915_0001\n",
      "2023-12-03 18:35:03 INFO  JobSubmitter:299 - Executing with tokens: []\n",
      "2023-12-03 18:35:03 INFO  Configuration:2854 - resource-types.xml not found\n",
      "2023-12-03 18:35:03 INFO  ResourceUtils:476 - Unable to find 'resource-types.xml'.\n",
      "2023-12-03 18:35:04 INFO  YarnClientImpl:338 - Submitted application application_1701616555915_0001\n",
      "2023-12-03 18:35:04 INFO  Job:1682 - The url to track the job: http://resourcemanager:8088/proxy/application_1701616555915_0001/\n",
      "2023-12-03 18:35:04 INFO  Job:1727 - Running job: job_1701616555915_0001\n",
      "2023-12-03 18:35:10 INFO  Job:1748 - Job job_1701616555915_0001 running in uber mode : false\n",
      "2023-12-03 18:35:10 INFO  Job:1755 -  map 0% reduce 0%\n",
      "2023-12-03 18:35:14 INFO  Job:1755 -  map 7% reduce 0%\n",
      "2023-12-03 18:35:15 INFO  Job:1755 -  map 13% reduce 0%\n",
      "2023-12-03 18:35:16 INFO  Job:1755 -  map 20% reduce 0%\n",
      "2023-12-03 18:35:19 INFO  Job:1755 -  map 40% reduce 0%\n",
      "2023-12-03 18:35:21 INFO  Job:1755 -  map 47% reduce 0%\n",
      "2023-12-03 18:35:23 INFO  Job:1755 -  map 53% reduce 0%\n",
      "2023-12-03 18:35:24 INFO  Job:1755 -  map 60% reduce 0%\n",
      "2023-12-03 18:35:26 INFO  Job:1755 -  map 67% reduce 0%\n",
      "2023-12-03 18:35:27 INFO  Job:1755 -  map 73% reduce 0%\n",
      "2023-12-03 18:35:29 INFO  Job:1755 -  map 80% reduce 0%\n",
      "2023-12-03 18:35:30 INFO  Job:1755 -  map 87% reduce 0%\n",
      "2023-12-03 18:35:32 INFO  Job:1755 -  map 93% reduce 0%\n",
      "2023-12-03 18:35:33 INFO  Job:1755 -  map 100% reduce 0%\n",
      "2023-12-03 18:35:34 INFO  Job:1755 -  map 100% reduce 100%\n",
      "2023-12-03 18:35:35 INFO  Job:1766 - Job job_1701616555915_0001 completed successfully\n",
      "2023-12-03 18:35:35 INFO  Job:1773 - Counters: 54\n",
      "\tFile System Counters\n",
      "\t\tFILE: Number of bytes read=336\n",
      "\t\tFILE: Number of bytes written=4461026\n",
      "\t\tFILE: Number of read operations=0\n",
      "\t\tFILE: Number of large read operations=0\n",
      "\t\tFILE: Number of write operations=0\n",
      "\t\tHDFS: Number of bytes read=3875\n",
      "\t\tHDFS: Number of bytes written=215\n",
      "\t\tHDFS: Number of read operations=65\n",
      "\t\tHDFS: Number of large read operations=0\n",
      "\t\tHDFS: Number of write operations=3\n",
      "\t\tHDFS: Number of bytes read erasure-coded=0\n",
      "\tJob Counters \n",
      "\t\tLaunched map tasks=15\n",
      "\t\tLaunched reduce tasks=1\n",
      "\t\tRack-local map tasks=15\n",
      "\t\tTotal time spent by all maps in occupied slots (ms)=48088\n",
      "\t\tTotal time spent by all reduces in occupied slots (ms)=27318\n",
      "\t\tTotal time spent by all map tasks (ms)=24044\n",
      "\t\tTotal time spent by all reduce tasks (ms)=13659\n",
      "\t\tTotal vcore-milliseconds taken by all map tasks=24044\n",
      "\t\tTotal vcore-milliseconds taken by all reduce tasks=13659\n",
      "\t\tTotal megabyte-milliseconds taken by all map tasks=24621056\n",
      "\t\tTotal megabyte-milliseconds taken by all reduce tasks=13986816\n",
      "\tMap-Reduce Framework\n",
      "\t\tMap input records=15\n",
      "\t\tMap output records=30\n",
      "\t\tMap output bytes=270\n",
      "\t\tMap output materialized bytes=420\n",
      "\t\tInput split bytes=2105\n",
      "\t\tCombine input records=0\n",
      "\t\tCombine output records=0\n",
      "\t\tReduce input groups=2\n",
      "\t\tReduce shuffle bytes=420\n",
      "\t\tReduce input records=30\n",
      "\t\tReduce output records=0\n",
      "\t\tSpilled Records=60\n",
      "\t\tShuffled Maps =15\n",
      "\t\tFailed Shuffles=0\n",
      "\t\tMerged Map outputs=15\n",
      "\t\tGC time elapsed (ms)=454\n",
      "\t\tCPU time spent (ms)=4290\n",
      "\t\tPhysical memory (bytes) snapshot=4999364608\n",
      "\t\tVirtual memory (bytes) snapshot=41470300160\n",
      "\t\tTotal committed heap usage (bytes)=4956094464\n",
      "\t\tPeak Map Physical memory (bytes)=320147456\n",
      "\t\tPeak Map Virtual memory (bytes)=2594091008\n",
      "\t\tPeak Reduce Physical memory (bytes)=232341504\n",
      "\t\tPeak Reduce Virtual memory (bytes)=2599399424\n",
      "\tShuffle Errors\n",
      "\t\tBAD_ID=0\n",
      "\t\tCONNECTION=0\n",
      "\t\tIO_ERROR=0\n",
      "\t\tWRONG_LENGTH=0\n",
      "\t\tWRONG_MAP=0\n",
      "\t\tWRONG_REDUCE=0\n",
      "\tFile Input Format Counters \n",
      "\t\tBytes Read=1770\n",
      "\tFile Output Format Counters \n",
      "\t\tBytes Written=97\n",
      "Job Finished in 32.242 seconds\n",
      "Estimated value of Pi is 3.14162962962962962963\n"
     ]
    }
   ],
   "source": [
    "!hadoop jar /opt/hadoop/share/hadoop/mapreduce/hadoop-mapreduce-examples-3.3.6.jar pi 15 1800"
   ]
  },
  {
   "cell_type": "code",
   "execution_count": null,
   "id": "a49f4fe0-4e0d-4c12-a7e0-3a1f31d64331",
   "metadata": {},
   "outputs": [],
   "source": []
  }
 ],
 "metadata": {
  "kernelspec": {
   "display_name": "Python 3 (ipykernel)",
   "language": "python",
   "name": "python3"
  },
  "language_info": {
   "codemirror_mode": {
    "name": "ipython",
    "version": 3
   },
   "file_extension": ".py",
   "mimetype": "text/x-python",
   "name": "python",
   "nbconvert_exporter": "python",
   "pygments_lexer": "ipython3",
   "version": "3.10.12"
  }
 },
 "nbformat": 4,
 "nbformat_minor": 5
}
